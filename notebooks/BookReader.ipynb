{
 "cells": [
  {
   "cell_type": "markdown",
   "id": "cfb64210-9c6b-47d7-81f4-67dbdab68e4c",
   "metadata": {
    "id": "cfb64210-9c6b-47d7-81f4-67dbdab68e4c"
   },
   "source": [
    "# Book Reading Assignment Pipeline "
   ]
  },
  {
   "cell_type": "markdown",
   "id": "3dd7a314",
   "metadata": {},
   "source": [
    "## Prerequisites"
   ]
  },
  {
   "cell_type": "code",
   "execution_count": 1,
   "id": "1e35c8ac",
   "metadata": {},
   "outputs": [
    {
     "name": "stdout",
     "output_type": "stream",
     "text": [
      "Python 3.11.5\n"
     ]
    }
   ],
   "source": [
    "!pip install llama-index --upgrade --force\n",
    "!pip install langchain --upgrade\n",
    "!pip install langchain_community\n",
    "!pip install boto3\n",
    "!pip install pinecone-client\n",
    "!pip install python-dotenv\n",
    "!pip install cohere\n",
    "!pip install langchain sentence_transformers"
   ]
  },
  {
   "cell_type": "markdown",
   "id": "b12d0614",
   "metadata": {},
   "source": [
    "## Data Preparation and ingestion pipeline\n",
    "\n",
    "The first step of the assignment is reading the booking right?! So let's start reading then! We will use Pinecone as vector store. Llamaindex will help us load and index our raw text into Pinecone. We will also use it to access and query the indexed data.\n",
    "\n",
    "Let's prepare some metadata first. The book pdf was split into separate files, one for reach chapter. We'll use this breakdown to assign metadata to each node inserted as part of our index. We won't cover that step in details but please check out the BookSplitter notebook if you are curious."
   ]
  },
  {
   "cell_type": "code",
   "execution_count": 36,
   "id": "a81030cf",
   "metadata": {},
   "outputs": [],
   "source": [
    "from dotenv import load_dotenv\n",
    "import os \n",
    "load_dotenv()\n",
    "\n",
    "environment = os.environ[\"PINECONE_ENV\"]\n",
    "index_name = os.environ[\"PINECONE_INDEX_NAME\"]"
   ]
  },
  {
   "cell_type": "code",
   "execution_count": 37,
   "id": "fa0e62b6",
   "metadata": {
    "id": "fa0e62b6"
   },
   "outputs": [],
   "source": [
    "# Initializing API Keys, credentials, imports and context variables\n",
    "import logging\n",
    "import sys\n",
    "import os\n",
    "\n",
    "logging.basicConfig(stream=sys.stdout, level=logging.INFO)\n",
    "logging.getLogger().addHandler(logging.StreamHandler(stream=sys.stdout))"
   ]
  },
  {
   "cell_type": "code",
   "execution_count": 38,
   "id": "e27b0473-4bda-47f0-b6ed-fd482eac1a13",
   "metadata": {
    "id": "e27b0473-4bda-47f0-b6ed-fd482eac1a13"
   },
   "outputs": [],
   "source": [
    "from llama_index import (\n",
    "    VectorStoreIndex,\n",
    "    SimpleKeywordTableIndex,\n",
    "    SimpleDirectoryReader,\n",
    "    LLMPredictor,\n",
    "    ServiceContext,\n",
    "    Document,\n",
    "    download_loader,\n",
    "    set_global_service_context,\n",
    "    get_response_synthesizer,\n",
    ")\n",
    "from llama_index.vector_stores import PineconeVectorStore\n",
    "from llama_index.storage.storage_context import StorageContext\n",
    "from llama_index.indices.document_summary import DocumentSummaryIndex\n",
    "from llama_index.llms import Bedrock\n",
    "from pathlib import Path"
   ]
  },
  {
   "cell_type": "code",
   "execution_count": 39,
   "id": "ba1fc925",
   "metadata": {},
   "outputs": [],
   "source": [
    "import json\n",
    "\n",
    "#book and chapters metadata are pre-stored into a a JSON Configuration file\n",
    "with open(\"../config/book_2.json\", \"r\") as read_content: \n",
    "\tbooks_config = json.load(read_content)\n",
    "\n",
    "file_name = books_config['books'][0]['fileName']\n",
    "book_title = books_config['books'][0]['title']\n",
    "chapter_titles = books_config['books'][0]['chapters']"
   ]
  },
  {
   "cell_type": "markdown",
   "id": "f9dee6e6",
   "metadata": {},
   "source": [
    "Initialize Pinecone client"
   ]
  },
  {
   "cell_type": "code",
   "execution_count": null,
   "id": "768bd080",
   "metadata": {},
   "outputs": [],
   "source": [
    "from langchain_community.embeddings import BedrockEmbeddings\n",
    "\n",
    "embeddings = BedrockEmbeddings(credentials_profile_name=\"genai-demo\", region_name=\"us-east-1\", model_id=\"cohere.embed-english-v3\")\n",
    "llm = Bedrock(model=\"anthropic.claude-v2:1\", profile_name=\"genai-demo\", max_tokens=1024)\n",
    "set_global_service_context(None)\n",
    "service_context = ServiceContext.from_defaults(llm=llm, embed_model=embeddings)\n",
    "vector_store = PineconeVectorStore(\n",
    "        index_name=index_name,\n",
    "        environment=environment\n",
    "    )\n",
    "storage_context = StorageContext.from_defaults(vector_store=vector_store)"
   ]
  },
  {
   "cell_type": "markdown",
   "id": "49e0d841-680f-4a0c-b455-788b54978ebf",
   "metadata": {
    "id": "49e0d841-680f-4a0c-b455-788b54978ebf"
   },
   "source": [
    "Let's start indexing! Notice how llama-index abstracts all the communication with the Vector store so far ...\n"
   ]
  },
  {
   "cell_type": "code",
   "execution_count": 35,
   "id": "39c00aeb-adef-4ce3-8134-031de18e64ea",
   "metadata": {
    "id": "39c00aeb-adef-4ce3-8134-031de18e64ea"
   },
   "outputs": [
    {
     "name": "stdout",
     "output_type": "stream",
     "text": [
      "Summary 1:  Here is a summary of the key points in the passage:\n",
      "\n",
      "- The passage is from the book \"Ishmael\" by Daniel Quinn. It's from chapter 1.\n",
      "\n",
      "- It discusses how animals in captivity often pace around endlessly and seem to be asking themselves \"Why?\" They sense something is wrong with their confined way of living. \n",
      "\n",
      "- The narrator began wondering the same thing about why life in captivity is boring and unpleasant compared to the interesting and pleasant life in the wild.\n",
      "\n",
      "- Ishmael, a character, points out to the narrator that humans have made themselves captives of a system that compels them to destroy the world, and have also made the world itself captive. \n",
      "\n",
      "- The narrator feels a personal sense of being a captive but can't explain why. Ishmael refers to a time when young people tried to escape captivity but failed because they couldn't find what was confining them.\n",
      "\n",
      "- Ishmael indicates the world won't survive much longer as humanity's captive. He thinks many humans would release the world if they could.\n",
      "Summary 2:  Here is a summary of the key points from the passage:\n",
      "\n",
      "- Ishmael and the narrator are discussing the idea of captivity, specifically in Nazi Germany under Hitler. This was a topic Ishmael's benefactor, Mr. Sokolow, was obsessed with.\n",
      "\n",
      "- Ishmael makes the point that not only Jews were held captive under Hitler, but the entire German nation was captive, including Hitler's supporters. Some hated what he was doing, some just went along, some thrived on it - but all were captives.\n",
      "\n",
      "- When the narrator suggests the Germans were held captive by terror, Ishmael disagrees - pointing out the prewar rallies where hundreds of thousands enthusiastically sang and cheered. \n",
      "\n",
      "- Ishmael says it wasn't just Hitler's charisma that won people over - once he had their attention with his charisma, he had to have something to tell them. The passage ends with Ishmael asking the narrator what Hitler had to tell the German people that captivated them.\n",
      "\n",
      "The passage is a dialogue between Ishmael and the narrator exploring the idea of the German people being held captive under Hitler's rule, even those who were his supporters, and considering what Hitler used to win them over beyond just charisma.\n",
      "Summary 3:  Here is a summary of the key points in the passage:\n",
      "\n",
      "- Ishmael is explaining to the narrator that every story has a premise or foundational idea behind it. He uses the example of Romeo and Juliet's premise being two young people from warring families falling in love. \n",
      "\n",
      "- Ishmael says the Takers/human culture also has a premise behind its story that has played out in history. He asks the narrator to try and identify this premise.\n",
      "\n",
      "- The narrator cannot figure out the premise. Ishmael reveals it is the notion that \"the world was made for man.\" He gets the narrator to agree everyone in his culture believes this, even atheists. \n",
      "\n",
      "- Ishmael argues this has been an extremely powerful idea in human history, driving behavior over the last 10,000 years as humans act like they can do whatever they want with the world since it belongs to them. But he questions whether it's been beneficial.\n",
      "\n",
      "- The narrator reflects and is astonished so many statements reflect this premise that the world belongs to humans - \"our environment,\" \"our seas,\" etc. Ishmael is disappointed the narrator is not more astonished, saying he should have gotten to him when he was 17.\n",
      "Summary 4:  Here is a summary of the key points from the passage:\n",
      "\n",
      "- The passage is from the book \"Ishmael\" by Daniel Quinn. It is from chapter 4.\n",
      "\n",
      "- It discusses the Takers' view that the environmental destruction caused by humans is simply \"the price of becoming human\" - the price that had to be paid for modern comforts and technology. \n",
      "\n",
      "- Ishmael disagrees, arguing that this destruction is not the inevitable price of being human, but rather the price of enacting a story that casts mankind as the enemy of the world.\n",
      "\n",
      "- The narrator has a hard time showing much emotion or excitement about Ishmael's teachings, though Ishmael seems concerned by the narrator's detached state. The narrator describes himself as being \"all frozen inside\" like \"an iceberg.\"\n",
      "\n",
      "- There is some back and forth dialogue between the narrator and Ishmael as Ishmael tries to get the narrator to understand his perspective.\n",
      "Summary 5:  Here is a summary of the key points from the passage:\n",
      "\n",
      "- The passage is from the book \"Ishmael\" by Daniel Quinn. It's from chapter 5.\n",
      "\n",
      "- Ishmael and the human narrator are discussing why humans don't know how to live without prophets to guide them. The human says it's because there is no certain knowledge available about how people should live. \n",
      "\n",
      "- Ishmael challenges this idea. He points out that humans have knowledge about many complex things like atoms, space travel, and genetics, but not about how to live. \n",
      "\n",
      "- The human agrees there is no certain knowledge \"out there\" about how people should live. He uses the example of the debate about legalizing drugs - there's no way to know for sure what the right thing to do is.\n",
      "\n",
      "- Ishmael says ultimately humans have to consult their own reasoning to decide how to live since there is nothing definitive \"out there.\" But the human is sure there is no way to obtain certain knowledge about how people ought to live.\n",
      "\n",
      "- Ishmael then gets the human to articulate the common idea that humans were meant to create paradise on Earth but tragically are flawed in ways that lead them to screw it up - they are stupid, destructive, greedy, and shortsighted.\n",
      "Summary 6:  Here is a summary of the key points from the passage:\n",
      "\n",
      "- Ishmael poses a series of rhetorical questions to demonstrate that if you want to understand how to live, you should look at how people actually live rather than studying unrelated fields like physics or geology. This leads the narrator to guess that the answer lies in anthropology.\n",
      "\n",
      "- Ishmael uses an extended metaphor of a flying machine to represent human civilization. Societies that have collapsed, like the Maya, Hohokam, and Anasazi, are compared to abandoned flying crafts that have crashed to the ground. \n",
      "\n",
      "- The people still \"flying\" (the Takers) don't understand why previous societies failed and believe they can keep their own civilization aloft indefinitely. However, Ishmael argues they are subject to an unforgiving \"law\" that is catching up with them, just as the law of gravity catches up with something in free fall. \n",
      "\n",
      "- 19th century thinkers Malthus and Wallace predicted overpopulation would lead to famine if current trends continued. While other Takers dismissed their warnings at first, famine does indeed start to regularly affect parts of the Taker civilization. Yet the Takers fail to heed these signs and \"pedal even harder and more efficiently than before.\"\n",
      "Summary 7:  Here is a summary of the key points in the passage:\n",
      "\n",
      "- The passage is a dialogue between two characters discussing a hypothetical society that follows an important law that allows their society to function well. \n",
      "\n",
      "- One character suggests carefully observing this society over time, looking for what they don't do, as a way to deduce what the important law is that they follow. This would eliminate irrelevant things like sleeping standing on their heads.\n",
      "\n",
      "- The other character then says someone has broken this important law for the first time ever. The society is outraged and executes the lawbreaker by cutting him up and feeding him to dogs. \n",
      "\n",
      "- The first character asks what specifically the lawbreaker did, but the other character just repeats that he broke the law and lived contrary to it, doing things they never do.\n",
      "\n",
      "- Frustrated, the first character says this isn't a fair answer. The other character says the lawbreaker's biography is available, detailing how he lived.\n",
      "\n",
      "- The first character realizes this biography gives him three guides to deducing the society's important law: what makes their society work well, what they never do, and what the lawbreaker did that they never do.\n",
      "Summary 8:  Here is a summary of the key points from the passage:\n",
      "\n",
      "- Ishmael discusses how it is foolish for humans to imagine they can control things like famine and drought. He argues that it is the gods (nature) that control these things, not humans. \n",
      "\n",
      "- Ishmael explains the correlation between food production and population growth. Specifically, he states that \"Every increase in food production is answered by an increase in population somewhere.\" So when a place like Nebraska increases its food production, that enables population growth somewhere else that consumes Nebraska's surpluses.\n",
      "\n",
      "- Ishmael argues that the \"law\" that food production increases enable population growth is undeniable. He says this law tells species how to survive and avoid extinction. \n",
      "\n",
      "- However, Ishmael notes that the \"Takers\" (people of the modern industrialized culture) will deny that this natural law applies to humankind. They believe humans are exempt from such natural laws.\n",
      "\n",
      "- Ishmael says it's unsurprising that modern culture denies humans are subject to natural laws regulating population growth. He gives examples of other things they have come to accept, like Earth not being the center of the universe. But they will not accept natural limits on human exemption and growth.\n",
      "Summary 9:  Here is a summary of the key points from the passage:\n",
      "\n",
      "The passage is a dialogue between two unnamed speakers discussing the biblical story of Adam and Eve and the origins of agriculture. The speakers are analyzing the story from the perspective of a herding people being pushed into the desert by agriculturalists expanding northwards.\n",
      "\n",
      "Key points:\n",
      "\n",
      "- Agriculturalists keep expanding and putting more land under cultivation to feed a growing population, without restraint. \n",
      "\n",
      "- Herding peoples must be wary of population imbalances between genders to remain stable, but agriculturalists don't worry about this.\n",
      "\n",
      "- Adam and Eve lived modestly for a long time, not needing to exercise control over life and death like agriculturalists do. \n",
      "\n",
      "- When Eve gave Adam the knowledge of good and evil, he realized they no longer needed to depend on the bounty of gods/nature and could expand populations through agriculture.\n",
      "\n",
      "- The story explains what went wrong - humans tried to preempt the wisdom of gods/nature to rule the world, but this leads to death, not enlightenment.  \n",
      "\n",
      "- People of the speakers' culture misunderstand the story because they assume it was created by agricultural people like themselves who see conquering nature as progress.\n",
      "\n",
      "- Properly understood, the story suggests man lacks the wisdom to rule the world without causing harm. Adam represents the founder of an agricultural lifestyle, not all of humanity.\n",
      "Summary 10:  Here is a summary of the key points from the passage:\n",
      "\n",
      "- Ishmael asks the narrator to define what culture is in the common sense of the word. The narrator defines it as \"the sum total of everything that makes a people a people.\"\n",
      "\n",
      "- Ishmael presses further, asking how that sum total comes into existence. The narrator realizes Ishmael is getting at the accumulation and passing down of culture over generations. \n",
      "\n",
      "- The narrator states that culture begins to accumulate when a species attains a certain level of intelligence and members of one generation begin passing along information, techniques, beliefs, assumptions, legends, etc. to the next generation. \n",
      "\n",
      "- Each generation takes what was passed to them, adds their own discoveries and refinements, and passes the expanded total on to the next generation. This is how culture accumulates over time.\n",
      "\n",
      "- Ishmael agrees, stating that culture is the sum total of what is passed along from generation to generation. This includes not just information and techniques but beliefs, theories, customs, stories, attitudes, tastes, and more - essentially everything that defines a people.\n",
      "Summary 11:  Here is a summary of the key points from the passage:\n",
      "\n",
      "- Ishmael and the narrator are discussing why the \"Takers\" way of life should be known and understood. Ishmael questions why this is important or necessary.\n",
      "\n",
      "- The narrator argues that people need to understand the Taker story so they can stop enacting it and see that it is a \"megalomaniac fantasy\" that is destroying the world. Knowing the story allows people to move beyond it.  \n",
      "\n",
      "- Ishmael challenges the narrator to explain why the alternative \"Leaver\" story is worth knowing. \n",
      "\n",
      "- The narrator explains that people can't simply give up the Taker story, they need to have another story to move into. The youth in the 1960s/70s tried to stop living as Takers but failed because they had no alternative. \n",
      "\n",
      "- Ishmael agrees that if there is an alternative story, people should hear about it. He asks if people want to hear about it.\n",
      "\n",
      "- The narrator says he doesn't know if people want to hear it since you can't want something until you know it exists. Ishmael agrees with this.\n",
      "\n",
      "In summary, they are debating the value and necessity of exposing the problematic Taker story and offering an alternative Leaver story, which the narrator sees as essential for people to change, while Ishmael questions if people really want such change.\n",
      "Summary 12:  Unfortunately I do not have access to the full passage to summarize, as the passage tags just contain a few snippets. Based on the snippets provided, here is a brief summary:\n",
      "\n",
      "The passage appears to be from the book \"Ishmael\" by Daniel Quinn. The snippets are from chapters 12 and 21. The snippets show a dialogue between Ishmael and the narrator, where they discuss how to change people's minds and worldviews away from the belief that humans are destined to conquer and rule the world. \n",
      "\n",
      "Ishmael suggests that someone needs to become an influential voice like Saint Paul was in the Roman Empire in order to change people's harmful mindsets. The narrator expresses doubt that he could take on such a monumental task. By the end, Ishmael accuses the narrator of just wanting to feel better about the state of the world rather than make real change.\n",
      "\n",
      "But without the full context of the passage, it's difficult to provide more specific details. Let me know if you have access to the complete passage text to summarize.\n",
      "Summary 13:  Unfortunately I do not have access to the passage text that was provided, as it was contained within XML tags that I cannot access. From the labels and descriptions in the XML, it seems the passage is from chapter 13 of the book \"Ishmael\" by Daniel Quinn. The passage appears to describe the narrator returning to visit Ishmael the gorilla, only to discover Ishmael has died of pneumonia over the weekend. The narrator speaks with someone at the place Ishmael was kept, learns about Ishmael's death, and is deeply saddened. The narrator then asks what was done with Ishmael's body and learns it was taken away to be cremated. The narrator decides to take some of Ishmael's belongings that would otherwise be thrown away. Without access to the full passage text, I cannot provide more specific details, but this seems to summarize the key events described in the provided excerpt. Please let me know if you have any other questions!\n",
      "Summary 14:  Unfortunately there is no passage text between the <passage> tags that I can summarize. The tags simply contain some metadata including page labels, file names, book title, chapter numbers and titles, but do not include any actual passage text. If you provide a passage between the tags, I would be happy to summarize it for you. Please let me know if you have an actual book passage you'd like me to summarize.\n"
     ]
    },
    {
     "data": {
      "application/vnd.jupyter.widget-view+json": {
       "model_id": "986eadf42f7844b2bd67ddbf6bb3f8d9",
       "version_major": 2,
       "version_minor": 0
      },
      "text/plain": [
       "Upserted vectors:   0%|          | 0/14 [00:00<?, ?it/s]"
      ]
     },
     "metadata": {},
     "output_type": "display_data"
    }
   ],
   "source": [
    "\n",
    "PDFReader = download_loader(\"PDFReader\")\n",
    "chapter_docs = []\n",
    "loader = PDFReader()\n",
    "\n",
    "#Let's index each chapter\n",
    "for pos in range(0, len(chapter_titles)):\n",
    "    documents = loader.load_data(file=Path(f\"{file_name}-{pos}.pdf\"))\n",
    "    chapter_title = chapter_titles[pos]['title']\n",
    "    for doc in documents:\n",
    "        doc.metadata['book_title'] = book_title\n",
    "        doc.metadata['chapter_number'] = pos\n",
    "        doc.metadata['chapter_title'] = chapter_title\n",
    "    chapter_docs.append(documents)\n",
    "\n",
    "#Let's generate chapter summaries\n",
    "response_synthesizer = get_response_synthesizer(\n",
    "    response_mode=\"tree_summarize\", \n",
    "    use_async=True, \n",
    "    service_context=service_context,\n",
    "    summary_template=summary_template,\n",
    ")\n",
    "summary_docs = []\n",
    "for chapter_pos in range(0, len(chapter_titles)):\n",
    "    doc_index = VectorStoreIndex.from_documents(\n",
    "        chapter_docs[chapter_pos],\n",
    "        storage_context=storage_context,\n",
    "        service_context=service_context,\n",
    "    )\n",
    "\n",
    "    if chapter_pos>0:\n",
    "        query_summary_engine = doc_index.as_query_engine(response_synthesizer=response_synthesizer,)\n",
    "        summary = query_summary_engine.query(\"Could you summarize the given context?\")\n",
    "        print(\"Summary \" + str(chapter_pos) + \": \" + summary.response)\n",
    "        chapter_title = chapter_titles[chapter_pos]['title']\n",
    "        summary_doc = Document(text=summary.response)\n",
    "        summary_doc.metadata['book_title'] = book_title\n",
    "        summary_doc.metadata['chapter_number'] = chapter_pos\n",
    "        summary_doc.metadata['chapter_title'] = chapter_title\n",
    "        summary_doc.metadata['is_summary'] = \"Y\"\n",
    "        summary_docs.append(summary_doc)\n",
    "\n",
    "summary_index = VectorStoreIndex.from_documents(\n",
    "    summary_docs,\n",
    "    storage_context=storage_context,\n",
    "    service_context=service_context,\n",
    ")\n"
   ]
  },
  {
   "cell_type": "markdown",
   "id": "2d668d19",
   "metadata": {},
   "source": [
    "## Let's run a few tests\n",
    "### Simple query"
   ]
  },
  {
   "cell_type": "code",
   "execution_count": null,
   "id": "1a553b09",
   "metadata": {},
   "outputs": [],
   "source": [
    "from IPython.display import Markdown, display\n",
    "from llama_index.prompts import PromptTemplate\n",
    "\n",
    "text_qa_template_str = (\n",
    "    \"Human: The <passage></passage> xml tags below contain a passage of the book.\\n\"\n",
    "    \" <passage>{context_str}</passage>\\n\"\n",
    "    \"Using the provided passage answer the following question:\\n\"\n",
    "    \"{query_str}\\nIf the context isn't helpful, please reply that you don't know.\\n\\n\"\n",
    "    \"Assistant:\"\n",
    ")\n",
    "text_qa_template = PromptTemplate(text_qa_template_str)\n",
    "\n",
    "refine_template_str = (\n",
    "    \"Human: The original question is within tghe <original_question></original_question> XML tags below.\\nWe have provided an\"\n",
    "    \" existing answer within the <existing_answer>{context_str}</existing_answer> XML tags below. \\nWe have the opportunity to refine\"\n",
    "    \" the existing answer (only if needed) with some more context available within the <passage></passage> XML tags below.\"\n",
    "    \" <original_question>{query_str}</original_question>\\n\"\n",
    "    \" <existing_answer>{context_str}</existing_answer>\\n\"\n",
    "    \" <passage>{context_str}</passage>\\n\"\n",
    "    \"Rewrite a new answer. Use the existing answer and context as new context to expand the existing answer.\\n\\n\"\n",
    "    \"Assistant:\"\n",
    ")\n",
    "refine_template = PromptTemplate(refine_template_str)\n",
    "\n",
    "summary_template_str = (\n",
    "    \"Human: The <passage></passage> xml tags below contain a passage of the book.\\n\"\n",
    "    \" <passage>{context_str}</passage>\\n\"\n",
    "    \"Please summarize the passage. Provide as many details as possible.\\n\"\n",
    "    \"Assistant:\"\n",
    ")\n",
    "summary_template = PromptTemplate(summary_template_str)\n",
    "\n",
    "def display_prompt_dict(prompts_dict):\n",
    "    for k, p in prompts_dict.items():\n",
    "        text_md = f\"**Prompt Key**: {k}<br>\" f\"**Text:** <br>\"\n",
    "        display(Markdown(text_md))\n",
    "        print(p.get_template())\n",
    "        display(Markdown(\"<br><br>\"))\n"
   ]
  },
  {
   "cell_type": "code",
   "execution_count": 43,
   "id": "61a06725",
   "metadata": {},
   "outputs": [
    {
     "data": {
      "text/markdown": [
       "**Prompt Key**: response_synthesizer:text_qa_template<br>**Text:** <br>"
      ],
      "text/plain": [
       "<IPython.core.display.Markdown object>"
      ]
     },
     "metadata": {},
     "output_type": "display_data"
    },
    {
     "name": "stdout",
     "output_type": "stream",
     "text": [
      "Human: The <passage></passage> xml tags below contain a passage of the book.\n",
      " <passage>{context_str}</passage>\n",
      "Using the provided passage answer the following question:\n",
      "{query_str}\n",
      "If the context isn't helpful, please reply that you don't know.\n",
      "\n",
      "Assistant:\n"
     ]
    },
    {
     "data": {
      "text/markdown": [
       "<br><br>"
      ],
      "text/plain": [
       "<IPython.core.display.Markdown object>"
      ]
     },
     "metadata": {},
     "output_type": "display_data"
    },
    {
     "data": {
      "text/markdown": [
       "**Prompt Key**: response_synthesizer:refine_template<br>**Text:** <br>"
      ],
      "text/plain": [
       "<IPython.core.display.Markdown object>"
      ]
     },
     "metadata": {},
     "output_type": "display_data"
    },
    {
     "name": "stdout",
     "output_type": "stream",
     "text": [
      "Human: The original question is within tghe <original_question></original_question> XML tags below.\n",
      "We have provided an existing answer within the <existing_answer>{context_str}</existing_answer> XML tags below. \n",
      "We have the opportunity to refine the existing answer (only if needed) with some more context available within the <passage></passage> XML tags below. <original_question>{query_str}</original_question>\n",
      " <existing_answer>{context_str}</existing_answer>\n",
      " <passage>{context_str}</passage>\n",
      "Rewrite a new answer. Use the existing answer and context as new context to expand the existing answer.\n",
      "\n",
      "Assistant:\n"
     ]
    },
    {
     "data": {
      "text/markdown": [
       "<br><br>"
      ],
      "text/plain": [
       "<IPython.core.display.Markdown object>"
      ]
     },
     "metadata": {},
     "output_type": "display_data"
    },
    {
     "name": "stdout",
     "output_type": "stream",
     "text": [
      " Based on the passages provided, the two main characters of the book \"Ishmael\" by Daniel Quinn appear to be:\n",
      "\n",
      "1) Ishmael: He is described as the narrator's \"benefactor\" and seems to serve as a teacher or guide, imparting wisdom and challenging perspectives. \n",
      "\n",
      "2) The narrator: He is the student or pupil of Ishmael. His name is not provided in the passages. He struggles to grasp Ishmael's teachings fully and shows little emotion.\n",
      "\n",
      "The passages center around dialogues and debates between Ishmael and the unnamed narrator, so they seem to be the central characters of the book.\n",
      "> Source (Doc id: ef396427-65b2-4077-af54-06cf3ab175c4): “Oh, hu ndreds, I suppose. Growers, harvesters, truckers, cleaners\n",
      "at t he canning plant, people ...\n",
      "\n",
      "> Source (Doc id: d5a0e659-eeb7-47e7-8125-7a65eebaa35e): 3\n",
      "“What happens  t o peop le who  live in the hands of the\n",
      "gods?”\n",
      "“What do you mean?”\n",
      "“I mean , w...\n",
      "\n",
      "> Source (Doc id: fc9711e6-bffa-4d55-a689-97330a773151): 1\n",
      "“Oddly enough,” he said, “it was my benefactor who\n",
      "awakened my interest in the subject of capti...\n",
      "\n",
      "> Source (Doc id: 1564368f-e00d-4679-bbd3-5b69bd6a3fcd): Here is a summary of the key points in the passage:\n",
      "\n",
      "- Ishmael is explaining to the narrator that...\n",
      "\n",
      "> Source (Doc id: a9b3b124-bf70-4495-a727-55acfb30137b): “As the Takers see it, all this is simply the price of becoming\n",
      "human.”\n",
      "“How do you mean?”\n",
      "“It wa...\n",
      "\n",
      "> Source (Doc id: a99570d1-fbf1-40b6-86a6-0b9826629979): “I’d have to say that the various peoples of the Leavers were the\n",
      "heirs.”\n",
      "“Not the Takers? Why is...\n",
      "\n",
      "> Source (Doc id: 55f0eda7-5527-43e8-b72a-d393170f5b76): Here is a summary of the key points from the passage:\n",
      "\n",
      "- Ishmael and the narrator are discussing ...\n",
      "\n",
      "> Source (Doc id: 929130d5-c82c-469a-bc90-5215e87b4029): Here is a summary of the key points in the passage:\n",
      "\n",
      "- The passage is a dialogue between two char...\n",
      "\n",
      "> Source (Doc id: 9fbacecd-195c-4471-bc30-9d9571d75989): Here is a summary of the key points from the passage:\n",
      "\n",
      "- Ishmael poses a series of rhetorical que...\n",
      "\n",
      "> Source (Doc id: eeb45bec-858d-427f-a2ba-40a89f99a116): Here is a summary of the key points from the passage:\n",
      "\n",
      "- The passage is from the book \"Ishmael\" b...\n"
     ]
    }
   ],
   "source": [
    "from llama_index.postprocessor.cohere_rerank import CohereRerank\n",
    "\n",
    "api_key = os.environ[\"COHERE_API_KEY\"]\n",
    "cohere_rerank = CohereRerank(api_key=api_key, top_n=100)\n",
    "\n",
    "book_index = VectorStoreIndex.from_vector_store(vector_store=vector_store, service_context=service_context)\n",
    "query_engine = book_index.as_query_engine(\n",
    "    similarity_top_k=10,\n",
    "    text_qa_template=text_qa_template,\n",
    "    refine_template = refine_template,\n",
    "    node_postprocessors=[cohere_rerank],\n",
    "    )\n",
    "\n",
    "prompts_dict = query_engine.get_prompts()\n",
    "display_prompt_dict(prompts_dict)\n",
    "\n",
    "response = query_engine.query(\"Who are the main characters of the book?\")\n",
    "#response = query_engine.query(\"What does the book talk about?\") #may work better by putting entire book in context\n",
    "#response = query_engine.query(\"What is the significance of the jellyfish story?\")\n",
    "print(str(response))\n",
    "print(response.get_formatted_sources())"
   ]
  },
  {
   "cell_type": "markdown",
   "id": "d4d3cd8b-4134-4cfa-8002-e0a34694d2e1",
   "metadata": {
    "id": "d4d3cd8b-4134-4cfa-8002-e0a34694d2e1"
   },
   "source": [
    "### Using metadata to summarize/query a specific chapter"
   ]
  },
  {
   "cell_type": "code",
   "execution_count": 44,
   "id": "615e083a",
   "metadata": {},
   ],
   "source": [
    "import pinecone\n",
    "\n",
    "from llama_index.vector_stores.types import (\n",
    "    MetadataFilters,\n",
    "    ExactMatchFilter,\n",
    ")\n",
    "\n",
    "query_chapter_title = \"SIX\"\n",
    "query_book_title = book_title\n",
    "query_engine_six = book_index.as_query_engine(\n",
    "    similarity_top_k=20,\n",
    "    text_qa_template=text_qa_template,\n",
    "    refine_template = refine_template,\n",
    "    node_postprocessors=[cohere_rerank],\n",
    "    filters=MetadataFilters(\n",
    "        filters=[\n",
    "            ExactMatchFilter(key=\"chapter_title\", value=query_chapter_title),\n",
    "            ExactMatchFilter(key=\"book_title\", value=query_book_title),\n",
    "        ]\n",
    "    ),\n",
    ")\n",
    "response = query_engine_six.query(\"What does the passage talk about?\")\n",
    "print(\"Response = \"+ repr(response))"
   ]
  },
  {
   "cell_type": "markdown",
   "id": "cd050184",
   "metadata": {},
   "source": [
    "## Time to do some homework"
   ]
  },
  {
   "cell_type": "code",
   "execution_count": 47,
   "id": "6d68750c-e5ae-481a-8b03-6173020c9bf3",
   "metadata": {
    "id": "6d68750c-e5ae-481a-8b03-6173020c9bf3"
   },
   "outputs": [
    {
     "name": "stderr",
     "output_type": "stream",
     "text": [
      "/var/folders/bh/g75h3y3510vds47rd2jkcf1h0000gr/T/ipykernel_3178/3063819745.py:36: SettingWithCopyWarning: \n",
      "A value is trying to be set on a copy of a slice from a DataFrame.\n",
      "Try using .loc[row_indexer,col_indexer] = value instead\n",
      "\n",
      "See the caveats in the documentation: https://pandas.pydata.org/pandas-docs/stable/user_guide/indexing.html#returning-a-view-versus-a-copy\n",
      "  questions_two['answer'] = questions_two['question'].map(lambda q: query_engine_two.query(role_prompt + q).response, na_action='ignore')\n",
      "/var/folders/bh/g75h3y3510vds47rd2jkcf1h0000gr/T/ipykernel_3178/3063819745.py:41: SettingWithCopyWarning: \n",
      "A value is trying to be set on a copy of a slice from a DataFrame.\n",
      "Try using .loc[row_indexer,col_indexer] = value instead\n",
      "\n",
      "See the caveats in the documentation: https://pandas.pydata.org/pandas-docs/stable/user_guide/indexing.html#returning-a-view-versus-a-copy\n",
      "  questions_all['answer'] = questions_all['question'].map(lambda q: query_engine_all.query(role_prompt + q).response, na_action='ignore') #re-initialize query_engine if needed by running beginning of previous section\n"
     ]
    },
    {
     "data": {
      "text/html": [
       "<div>\n",
       "<style scoped>\n",
       "    .dataframe tbody tr th:only-of-type {\n",
       "        vertical-align: middle;\n",
       "    }\n",
       "\n",
       "    .dataframe tbody tr th {\n",
       "        vertical-align: top;\n",
       "    }\n",
       "\n",
       "    .dataframe thead th {\n",
       "        text-align: right;\n",
       "    }\n",
       "</style>\n",
       "<table border=\"1\" class=\"dataframe\">\n",
       "  <thead>\n",
       "    <tr style=\"text-align: right;\">\n",
       "      <th></th>\n",
       "      <th>question</th>\n",
       "      <th>chapter</th>\n",
       "      <th>answer</th>\n",
       "    </tr>\n",
       "  </thead>\n",
       "  <tbody>\n",
       "    <tr>\n",
       "      <th>1</th>\n",
       "      <td>Explain all Ishmael has to say about captivity. In your opinion, is there any truth in what he says?</td>\n",
       "      <td>TWO</td>\n",
       "      <td>Ishmael has quite a bit to say about captivity in this passage. Here is a summary of his main points:\\n\\n1. Ishmael's benefactor (Mr. Sokolow) was obsessed with the events in Nazi Germany and wanted to show Ishmael that the entire German nation was held captive under Hitler, including his supporters. Some detested Hitler's actions but still had to play their part in Hitler's story.\\n\\n2. Ishmael draws a parallel to the narrator's own culture, saying \"the people of your culture are in much the same situation. Like the people of Nazi Germany, they are the captives of a story.\" The narrator protests that he knows of no such story captivating his culture.\\n\\n3. Ishmael argues that there is an \"explaining story\" that people in the narrator's culture know that tells them how things came to be the way they are. This story pacifies them and allows them to accept things like environmental destruction without becoming alarmed. \\n\\n4. Ishmael says everyone is fed the same story from childhoo...</td>\n",
       "    </tr>\n",
       "    <tr>\n",
       "      <th>2</th>\n",
       "      <td>Find Ishmael’s definitions for the following word: Takers</td>\n",
       "      <td>TWO</td>\n",
       "      <td>Based on the passage, Ishmael defines \"Takers\" as:\\n\\n\"Using them in this sense, do the words takers and leavers have any heavy connotation for you?\"\\n\"I'm not sure what you mean.\"\\n\"I mean, if I call one group Takers and the other group Leavers, will this sound like I'm setting up one to be good guys and the other to be bad guys?\"\\n\"No. They sound pretty neutral to me.\"\\n\\nSo Ishmael defines \"Takers\" as a neutral term to refer to the people of the narrator's culture, as opposed to \"Leavers\" which refers to the people of all other cultures. He wants to use these terms without attaching positive or negative connotations to them.</td>\n",
       "    </tr>\n",
       "    <tr>\n",
       "      <th>3</th>\n",
       "      <td>Find Ishmael’s definitions for the following word: Leavers</td>\n",
       "      <td>TWO</td>\n",
       "      <td>Based on the passage, Ishmael provides the following definition for \"Leavers\":\\n\\n\"Using them in this sense, do the words takers and leavers have any heavy connotation for you?\"\\n\"I mean, if I call one group Takers and the other group Leavers, will this sound like I’m setting up one to be good guys and the other to be bad guys?\"\\n\"No. They sound pretty neutral to me.\"\\n\\nSo Ishmael defines \"Leavers\" as a neutral term to refer to \"the people of all other cultures\" besides the narrator's own. He sets them up as a broad group, not specifically good or bad, that can be contrasted with the \"Takers\".</td>\n",
       "    </tr>\n",
       "    <tr>\n",
       "      <th>4</th>\n",
       "      <td>Find Ishmael’s definitions for the following word: Mother Culture</td>\n",
       "      <td>TWO</td>\n",
       "      <td>Unfortunately the passage does not contain Ishmael's explicit definition of the term \"Mother Culture\". The term is used several times, but is not clearly defined. Without additional context, I don't have enough information to determine Ishmael's intended definition of this term.</td>\n",
       "    </tr>\n",
       "    <tr>\n",
       "      <th>0</th>\n",
       "      <td>What does the book Ishmael talk about?</td>\n",
       "      <td>ALL</td>\n",
       "      <td>Unfortunately, the passage provided does not contain any actual text from the book \"Ishmael\" that I can use to summarize what the book talks about. The XML tags simply provide some metadata like the book title, chapter numbers, etc. but do not include passage content. Without any excerpt from the book itself, I do not have enough context to reliably state what the book is about. If you are able to provide a sample passage from the book \"Ishmael\", I would be happy to analyze it and answer questions about the book's key themes and topics. But with just the limited metadata here, I don't believe I can confidently answer the question \"What does the book Ishmael talk about?\". Please let me know if you have any passages from the book you can share for analysis.</td>\n",
       "    </tr>\n",
       "  </tbody>\n",
       "</table>\n",
       "</div>"
      ],
      "text/plain": [
       "                                                                                               question  \\\n",
       "1  Explain all Ishmael has to say about captivity. In your opinion, is there any truth in what he says?   \n",
       "2                                             Find Ishmael’s definitions for the following word: Takers   \n",
       "3                                            Find Ishmael’s definitions for the following word: Leavers   \n",
       "4                                     Find Ishmael’s definitions for the following word: Mother Culture   \n",
       "0                                                                What does the book Ishmael talk about?   \n",
       "\n",
       "  chapter  \\\n",
       "1     TWO   \n",
       "2     TWO   \n",
       "3     TWO   \n",
       "4     TWO   \n",
       "0     ALL   \n",
       "\n",
       "                                                                                                                                                                                                                                                                                                                                                                                                                                                                                                                                                                                                                                                                                                                                                                                                                                                                                                                                                                                                                                    answer  \n",
       "1   Ishmael has quite a bit to say about captivity in this passage. Here is a summary of his main points:\\n\\n1. Ishmael's benefactor (Mr. Sokolow) was obsessed with the events in Nazi Germany and wanted to show Ishmael that the entire German nation was held captive under Hitler, including his supporters. Some detested Hitler's actions but still had to play their part in Hitler's story.\\n\\n2. Ishmael draws a parallel to the narrator's own culture, saying \"the people of your culture are in much the same situation. Like the people of Nazi Germany, they are the captives of a story.\" The narrator protests that he knows of no such story captivating his culture.\\n\\n3. Ishmael argues that there is an \"explaining story\" that people in the narrator's culture know that tells them how things came to be the way they are. This story pacifies them and allows them to accept things like environmental destruction without becoming alarmed. \\n\\n4. Ishmael says everyone is fed the same story from childhoo...  \n",
       "2                                                                                                                                                                                                                                                                                                                                                                              Based on the passage, Ishmael defines \"Takers\" as:\\n\\n\"Using them in this sense, do the words takers and leavers have any heavy connotation for you?\"\\n\"I'm not sure what you mean.\"\\n\"I mean, if I call one group Takers and the other group Leavers, will this sound like I'm setting up one to be good guys and the other to be bad guys?\"\\n\"No. They sound pretty neutral to me.\"\\n\\nSo Ishmael defines \"Takers\" as a neutral term to refer to the people of the narrator's culture, as opposed to \"Leavers\" which refers to the people of all other cultures. He wants to use these terms without attaching positive or negative connotations to them.  \n",
       "3                                                                                                                                                                                                                                                                                                                                                                                                                Based on the passage, Ishmael provides the following definition for \"Leavers\":\\n\\n\"Using them in this sense, do the words takers and leavers have any heavy connotation for you?\"\\n\"I mean, if I call one group Takers and the other group Leavers, will this sound like I’m setting up one to be good guys and the other to be bad guys?\"\\n\"No. They sound pretty neutral to me.\"\\n\\nSo Ishmael defines \"Leavers\" as a neutral term to refer to \"the people of all other cultures\" besides the narrator's own. He sets them up as a broad group, not specifically good or bad, that can be contrasted with the \"Takers\".  \n",
       "4                                                                                                                                                                                                                                                                                                                                                                                                                                                                                                                                                                                                                                                                                                                                                  Unfortunately the passage does not contain Ishmael's explicit definition of the term \"Mother Culture\". The term is used several times, but is not clearly defined. Without additional context, I don't have enough information to determine Ishmael's intended definition of this term.  \n",
       "0                                                                                                                                                                                                                                            Unfortunately, the passage provided does not contain any actual text from the book \"Ishmael\" that I can use to summarize what the book talks about. The XML tags simply provide some metadata like the book title, chapter numbers, etc. but do not include passage content. Without any excerpt from the book itself, I do not have enough context to reliably state what the book is about. If you are able to provide a sample passage from the book \"Ishmael\", I would be happy to analyze it and answer questions about the book's key themes and topics. But with just the limited metadata here, I don't believe I can confidently answer the question \"What does the book Ishmael talk about?\". Please let me know if you have any passages from the book you can share for analysis.  "
      ]
     },
     "execution_count": 47,
     "metadata": {},
     "output_type": "execute_result"
    }
   ],
   "source": [
    "import pandas as pd\n",
    "\n",
    "assignment = pd.read_csv('../data/assignment_questions.csv')\n",
    "\n",
    "role_prompt = \"You are a 12th grader doing an English assignment. Based on the provided context, please answer the following question.\\n QUESTION:\"\n",
    "\n",
    "def get_query_engine_by_chapter(book_index, query_book_title, query_chapter_title=\"ALL\"):\n",
    "    similarity_top_k_val=20\n",
    "    if query_chapter_title == \"ALL\":\n",
    "        chapter_filter = ExactMatchFilter(key=\"is_summary\", value=\"Y\")\n",
    "        similarity_top_k_val = 100\n",
    "    else:\n",
    "        chapter_filter = ExactMatchFilter(key=\"chapter_title\", value=query_chapter_title)\n",
    "        \n",
    "    query_engine = book_index.as_query_engine(\n",
    "        similarity_top_k=similarity_top_k_val,\n",
    "        text_qa_template=text_qa_template,\n",
    "        refine_template = refine_template,\n",
    "        node_postprocessors=[cohere_rerank],\n",
    "        filters=MetadataFilters(\n",
    "            filters=[\n",
    "                chapter_filter,\n",
    "                ExactMatchFilter(key=\"book_title\", value=query_book_title),\n",
    "            ]\n",
    "        ),\n",
    "    )\n",
    "    return query_engine\n",
    "\n",
    "book_index = VectorStoreIndex.from_vector_store(vector_store=vector_store, service_context=service_context)\n",
    "\n",
    "questions_one = assignment[assignment['chapter'] == \"ONE\"]\n",
    "query_engine_one = get_query_engine_by_chapter(book_index, book_title, \"ONE\")\n",
    "questions_one['answer'] = questions_one['question'].map(lambda q: query_engine_one.query(role_prompt + q).response, na_action='ignore')\n",
    "\n",
    "questions_two = assignment[assignment['chapter'] == \"TWO\"]\n",
    "query_engine_two = get_query_engine_by_chapter(book_index, book_title, \"TWO\")\n",
    "questions_two['answer'] = questions_two['question'].map(lambda q: query_engine_two.query(role_prompt + q).response, na_action='ignore')\n",
    "\n",
    "#General questions\n",
    "questions_all = assignment[assignment['chapter'] == \"ALL\"]\n",
    "query_engine_all = get_query_engine_by_chapter(book_index, book_title)\n",
    "questions_all['answer'] = questions_all['question'].map(lambda q: query_engine_all.query(role_prompt + q).response, na_action='ignore') #re-initialize query_engine if needed by running beginning of previous section\n",
    "\n",
    "questions = pd.concat([questions_one, questions_two, questions_all], sort=False)\n",
    "\n",
    "pd.options.display.max_colwidth = 1000\n",
    "questions.head(5)"
   ]
  },
  {
   "cell_type": "code",
   "execution_count": 48,
   "id": "babce835",
   "metadata": {},
   "outputs": [],
   "source": [
    "questions.to_csv('../data/assignment_answers.csv', index=False)"
   ]
  }
 ],
 "metadata": {
  "colab": {
   "provenance": [
    {
     "file_id": "https://github.com/jerryjliu/llama_index/blob/main/docs/examples/composable_indices/city_analysis/PineconeDemo-CityAnalysis.ipynb",
     "timestamp": 1702262242175
    }
   ]
  },
  "kernelspec": {
   "display_name": "Python 3 (ipykernel)",
   "language": "python",
   "name": "python3"
  },
  "language_info": {
   "codemirror_mode": {
    "name": "ipython",
    "version": 3
   },
   "file_extension": ".py",
   "mimetype": "text/x-python",
   "name": "python",
   "nbconvert_exporter": "python",
   "pygments_lexer": "ipython3",
   "version": "3.11.5"
  },
  "vscode": {
   "interpreter": {
    "hash": "87ec1eea00c24d6a3e8d99aeed087f5b444094e8604d83efa2f111696e36cf57"
   }
  }
 },
 "nbformat": 4,
 "nbformat_minor": 5
}
