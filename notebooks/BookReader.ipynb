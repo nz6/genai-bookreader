{
 "cells": [
  {
   "cell_type": "markdown",
   "id": "cfb64210-9c6b-47d7-81f4-67dbdab68e4c",
   "metadata": {
    "id": "cfb64210-9c6b-47d7-81f4-67dbdab68e4c"
   },
   "source": [
    "# Book Reading Assignment Pipeline "
   ]
  },
  {
   "cell_type": "markdown",
   "id": "3dd7a314",
   "metadata": {},
   "source": [
    "## Prerequisites"
   ]
  },
  {
   "cell_type": "code",
   "execution_count": null,
   "id": "1e35c8ac",
   "metadata": {},
   "outputs": [],
   "source": [
    "!pip install llama-index --upgrade --force\n",
    "!pip install langchain --upgrade\n",
    "!pip install langchain_community --upgrade --force\n",
    "!pip install boto3 --upgrade --force\n",
    "!pip install pinecone-client --upgrade --force\n",
    "!pip install python-dotenv\n",
    "!pip install cohere --upgrade --force"
   ]
  },
  {
   "cell_type": "markdown",
   "id": "b12d0614",
   "metadata": {},
   "source": [
    "## Data Preparation and ingestion pipeline\n",
    "\n",
    "The first step of the assignment is reading the booking right?! So let's start reading then! We will use Pinecone as vector store. Llamaindex will help us load and index our raw text into Pinecone. We will also use it to access and query the indexed data.\n",
    "\n",
    "Let's prepare some metadata first. The book pdf was split into separate files, one for reach chapter. We'll use this breakdown to assign metadata to each node inserted as part of our index. We won't cover that step in details but please check out the BookSplitter notebook if you are curious."
   ]
  },
  {
   "cell_type": "code",
   "execution_count": 17,
   "id": "a81030cf",
   "metadata": {},
   "outputs": [],
   "source": [
    "from dotenv import load_dotenv\n",
    "import os \n",
    "load_dotenv()\n",
    "\n",
    "environment = os.environ[\"PINECONE_ENV\"]\n",
    "index_name = os.environ[\"PINECONE_INDEX_NAME\"]"
   ]
  },
  {
   "cell_type": "code",
   "execution_count": 18,
   "id": "fa0e62b6",
   "metadata": {
    "id": "fa0e62b6"
   },
   "outputs": [],
   "source": [
    "# Initializing API Keys, credentials, imports and context variables\n",
    "import logging\n",
    "import sys\n",
    "import os\n",
    "\n",
    "logging.basicConfig(stream=sys.stdout, level=logging.INFO)\n",
    "logging.getLogger().addHandler(logging.StreamHandler(stream=sys.stdout))"
   ]
  },
  {
   "cell_type": "code",
   "execution_count": 19,
   "id": "e27b0473-4bda-47f0-b6ed-fd482eac1a13",
   "metadata": {
    "id": "e27b0473-4bda-47f0-b6ed-fd482eac1a13"
   },
   "outputs": [],
   "source": [
    "from llama_index import (\n",
    "    VectorStoreIndex,\n",
    "    SimpleKeywordTableIndex,\n",
    "    SimpleDirectoryReader,\n",
    "    LLMPredictor,\n",
    "    ServiceContext,\n",
    "    Document,\n",
    "    download_loader,\n",
    "    set_global_service_context,\n",
    "    get_response_synthesizer,\n",
    ")\n",
    "from llama_index.vector_stores import PineconeVectorStore\n",
    "from llama_index.storage.storage_context import StorageContext\n",
    "from llama_index.indices.document_summary import DocumentSummaryIndex\n",
    "from llama_index.llms import Bedrock\n",
    "from pathlib import Path\n",
    "from llama_index.prompts import PromptTemplate\n",
    "from IPython.display import Markdown, display"
   ]
  },
  {
   "cell_type": "code",
   "execution_count": 20,
   "id": "ba1fc925",
   "metadata": {},
   "outputs": [],
   "source": [
    "import json\n",
    "\n",
    "#book and chapters metadata are pre-stored into a a JSON Configuration file\n",
    "with open(\"../config/book_2.json\", \"r\") as read_content: \n",
    "\tbooks_config = json.load(read_content)\n",
    "\n",
    "file_name = books_config['books'][0]['fileName']\n",
    "book_title = books_config['books'][0]['title']\n",
    "chapter_titles = books_config['books'][0]['chapters']"
   ]
  },
  {
   "cell_type": "markdown",
   "id": "f9dee6e6",
   "metadata": {},
   "source": [
    "Initialize Pinecone client"
   ]
  },
  {
   "cell_type": "code",
   "execution_count": null,
   "id": "768bd080",
   "metadata": {},
   "outputs": [],
   "source": [
    "from langchain_community.embeddings import BedrockEmbeddings\n",
    "\n",
    "embeddings = BedrockEmbeddings(credentials_profile_name=\"genai-demo\", region_name=\"us-east-1\", model_id=\"amazon.titan-embed-text-v1\")\n",
    "llm = Bedrock(model=\"anthropic.claude-v2\", profile_name=\"genai-demo\")\n",
    "set_global_service_context(None)\n",
    "service_context = ServiceContext.from_defaults(llm=llm, embed_model=embeddings)\n",
    "vector_store = PineconeVectorStore(\n",
    "        index_name=index_name,\n",
    "        environment=environment\n",
    "    )\n",
    "storage_context = StorageContext.from_defaults(vector_store=vector_store)"
   ]
  },
  {
   "cell_type": "markdown",
   "id": "49e0d841-680f-4a0c-b455-788b54978ebf",
   "metadata": {
    "id": "49e0d841-680f-4a0c-b455-788b54978ebf"
   },
   "source": [
    "Let's start indexing! Notice how llama-index abstracts all the communication with the Vector store so far ...\n"
   ]
  },
  {
   "cell_type": "code",
   "execution_count": 30,
   "id": "c711ef6e",
   "metadata": {},
   "outputs": [],
   "source": [
    "summary_template_str = (\n",
    "    \"Human: The <passage></passage> xml tags below contain a passage of the book.\\n\"\n",
    "    \" <passage>{context_str}</passage>\\n\"\n",
    "    \"Please summarize the passage. Provide as many details as possible.\\n\"\n",
    "    \"Assistant:\"\n",
    ")\n",
    "summary_template = PromptTemplate(summary_template_str)\n",
    "\n",
    "def display_prompt_dict(prompts_dict):\n",
    "    for k, p in prompts_dict.items():\n",
    "        text_md = f\"**Prompt Key**: {k}<br>\" f\"**Text:** <br>\"\n",
    "        display(Markdown(text_md))\n",
    "        print(p.get_template())\n",
    "        display(Markdown(\"<br><br>\"))\n"
   ]
  },
  {
   "cell_type": "code",
   "execution_count": 32,
   "id": "39c00aeb-adef-4ce3-8134-031de18e64ea",
   "metadata": {
    "id": "39c00aeb-adef-4ce3-8134-031de18e64ea"
   },
   "outputs": [
    {
     "data": {
      "application/vnd.jupyter.widget-view+json": {
       "model_id": "86c9151c514843438b2f8bafe931306b",
       "version_major": 2,
       "version_minor": 0
      },
      "text/plain": [
       "Upserted vectors:   0%|          | 0/3 [00:00<?, ?it/s]"
      ]
     },
     "metadata": {},
     "output_type": "display_data"
    },
    {
     "data": {
      "application/vnd.jupyter.widget-view+json": {
       "model_id": "74e43ba18e2c47e094d0a998c303713d",
       "version_major": 2,
       "version_minor": 0
      },
      "text/plain": [
       "Upserted vectors:   0%|          | 0/30 [00:00<?, ?it/s]"
      ]
     },
     "metadata": {},
     "output_type": "display_data"
    },
    {
     "name": "stdout",
     "output_type": "stream",
     "text": [
      "Summary 1: Empty Response\n"
     ]
    },
    {
     "data": {
      "application/vnd.jupyter.widget-view+json": {
       "model_id": "58bbb551f5de47d8b159e4f348d122e8",
       "version_major": 2,
       "version_minor": 0
      },
      "text/plain": [
       "Upserted vectors:   0%|          | 0/17 [00:00<?, ?it/s]"
      ]
     },
     "metadata": {},
     "output_type": "display_data"
    },
    {
     "name": "stdout",
     "output_type": "stream",
     "text": [
      "Summary 2: Empty Response\n"
     ]
    },
    {
     "data": {
      "application/vnd.jupyter.widget-view+json": {
       "model_id": "b3819ca73d3049c1b4ed8156c3de32ec",
       "version_major": 2,
       "version_minor": 0
      },
      "text/plain": [
       "Upserted vectors:   0%|          | 0/19 [00:00<?, ?it/s]"
      ]
     },
     "metadata": {},
     "output_type": "display_data"
    },
    {
     "name": "stdout",
     "output_type": "stream",
     "text": [
      "Summary 3:  Here is a summary of the key points from the passage:\n",
      "\n",
      "- The passage contains excerpts from chapters 1 and 2 of the book Ishmael by Daniel Quinn. \n",
      "\n",
      "- In chapter 1, the narrator describes being captured from the wild as a young gorilla and brought to live in a zoo. He notices the zoo animals seem more \"thoughtful\" and wonders \"why\" life is divided into a boring, unpleasant captivity vs an interesting, pleasant life in the wild. \n",
      "\n",
      "- In chapter 2, a character called \"he\" provides three definitions to the narrator: 1) Story - a scenario interrelating man, the world, and the gods 2) To enact - to live so as to make a story into reality 3) Culture - a people enacting a story. \n",
      "\n",
      "- He explains there are two fundamentally different stories enacted on earth - one by \"Leavers\" (hunter gatherers) beginning millions of years ago, and one by \"Takers\" (civilized man) beginning 10-12 thousand years ago that may end in catastrophe. \n",
      "\n",
      "- The narrator doesn't fully understand yet but will learn the story enacted by his own culture.\n"
     ]
    },
    {
     "data": {
      "application/vnd.jupyter.widget-view+json": {
       "model_id": "d356c69d8dbd4274b8592ffa70c4f719",
       "version_major": 2,
       "version_minor": 0
      },
      "text/plain": [
       "Upserted vectors:   0%|          | 0/12 [00:00<?, ?it/s]"
      ]
     },
     "metadata": {},
     "output_type": "display_data"
    },
    {
     "name": "stdout",
     "output_type": "stream",
     "text": [
      "Summary 4:  Here is a summary of the key points in the passage:\n",
      "\n",
      "- The passage contains excerpts from chapters 1 and 2 of the book Ishmael by Daniel Quinn. \n",
      "\n",
      "- In chapter 1, the narrator describes how animals in captivity, like a tiger pacing in a cage, often become preoccupied with the question \"Why?\". The narrator realized he was also asking himself \"Why?\" about why life is divided into a boring, unpleasant captivity vs an interesting, pleasant freedom. \n",
      "\n",
      "- In chapter 2, Ishmael the teacher defines some key terms: \"story\" as a scenario about man, the world, and gods; \"enact\" as living to make a story real; \"culture\" as a people enacting a story. \n",
      "\n",
      "- Ishmael states two fundamentally different stories have been enacted on Earth - one by \"Leavers\" (hunter-gatherers) beginning millions of years ago, and one by \"Takers\" (civilized cultures) beginning 10-12 thousand years ago that may end in catastrophe. \n",
      "\n",
      "- The narrator doesn't yet understand what the Takers' story is that his own culture is enacting.\n"
     ]
    },
    {
     "data": {
      "application/vnd.jupyter.widget-view+json": {
       "model_id": "ebf9f6ca3b22427b82b8fb0e241b0cc7",
       "version_major": 2,
       "version_minor": 0
      },
      "text/plain": [
       "Upserted vectors:   0%|          | 0/15 [00:00<?, ?it/s]"
      ]
     },
     "metadata": {},
     "output_type": "display_data"
    },
    {
     "name": "stdout",
     "output_type": "stream",
     "text": [
      "Summary 5:  Here is a summary of the key points from the passage:\n",
      "\n",
      "- The passage is from the book Ishmael by Daniel Quinn. It is from chapters 2 and 3. \n",
      "\n",
      "- Ishmael tells the narrator that every story has a premise. He gives the example of Romeo and Juliet, with the premise that two children from warring families fall in love. \n",
      "\n",
      "- Ishmael says the story being enacted by the \"Takers\" (modern human civilization) also has a premise that the narrator should be able to figure out. \n",
      "\n",
      "- Ishmael hints that the premise is that the world was made for humans/man. The narrator agrees this is a common belief even among atheists.\n",
      "\n",
      "- Ishmael explains key definitions: \n",
      "\n",
      "- Story: a scenario interrelating man, the world, and the gods\n",
      "- To enact: to live so as to make the story a reality \n",
      "- Culture: a people enacting a story\n",
      "\n",
      "- Ishmael says there are two fundamentally different stories enacted on Earth: \n",
      "\n",
      "- The \"Leavers\" - enacted for 2-3 million years, still successful\n",
      "- The \"Takers\" - enacted for 10-12 thousand years, ending in catastrophe \n",
      "\n",
      "- The narrator still does not know the full story being enacted by his own \"Taker\" culture.\n"
     ]
    },
    {
     "data": {
      "application/vnd.jupyter.widget-view+json": {
       "model_id": "daebeb8f01574438bc7731dbe6e606f2",
       "version_major": 2,
       "version_minor": 0
      },
      "text/plain": [
       "Upserted vectors:   0%|          | 0/18 [00:00<?, ?it/s]"
      ]
     },
     "metadata": {},
     "output_type": "display_data"
    },
    {
     "name": "stdout",
     "output_type": "stream",
     "text": [
      "Summary 6:  Here is a summary of the key points from the passage:\n",
      "\n",
      "- The passage is from the book Ishmael by Daniel Quinn. It is from chapters 2 and 3. \n",
      "\n",
      "- Ishmael tells the narrator that every story has a premise. He gives the example of Romeo and Juliet, with the premise that two children from warring families fall in love. \n",
      "\n",
      "- Ishmael says the story being enacted in the world by the \"Takers\" also has a premise. He asks the narrator to figure out what this premise is. \n",
      "\n",
      "- The narrator cannot figure it out. Ishmael reveals the premise - that the world was made for man. The narrator agrees this is a common belief.\n",
      "\n",
      "- Ishmael defines some key terms: \n",
      "\n",
      "- Story: A scenario interrelating man, the world, and the gods. \n",
      "\n",
      "- To enact: To live so as to make the story a reality. \n",
      "\n",
      "- Culture: A people enacting a story.\n",
      "\n",
      "- Ishmael says there are two fundamentally different stories enacted on earth - one by the \"Leavers\" beginning 2-3 million years ago, and one by the \"Takers\" beginning 10-12 thousand years ago that may end in catastrophe.\n"
     ]
    },
    {
     "data": {
      "application/vnd.jupyter.widget-view+json": {
       "model_id": "4c34900566f240309ca0081ef2068d45",
       "version_major": 2,
       "version_minor": 0
      },
      "text/plain": [
       "Upserted vectors:   0%|          | 0/12 [00:00<?, ?it/s]"
      ]
     },
     "metadata": {},
     "output_type": "display_data"
    },
    {
     "name": "stdout",
     "output_type": "stream",
     "text": [
      "Summary 7:  Here is a summary of the key points from the passage:\n",
      "\n",
      "- The passage is from the book Ishmael by Daniel Quinn. It is from chapters 2 and 3. \n",
      "\n",
      "- Ishmael tells the narrator that every story has a premise. He gives the example of Romeo and Juliet, with the premise that two children from warring families fall in love. \n",
      "\n",
      "- Ishmael says the story being enacted by the \"Takers\" (modern civilization) also has a premise that the narrator should be able to figure out. \n",
      "\n",
      "- Ishmael gives hints, saying the world was not made for jellyfish, frogs, lizards or rabbits, but for man. The narrator agrees everyone knows the world was made for man.\n",
      "\n",
      "- Ishmael defines some key terms: \n",
      "\n",
      "- Story: a scenario interrelating man, the world, and the gods\n",
      "- To enact: to live so as to make the story a reality\n",
      "- Culture: a people enacting a story\n",
      "\n",
      "- Ishmael says the Leavers have enacted one story and the Takers another. The Leavers' story began 2-3 million years ago and continues successfully. The Takers' story began 10-12 thousand years ago and appears headed for catastrophe.\n",
      "\n",
      "- The narrator still does not know the premise of the Takers' story, but Ishmael says he will understand it soon. The premise is simple but very powerful.\n"
     ]
    },
    {
     "data": {
      "application/vnd.jupyter.widget-view+json": {
       "model_id": "9b5df59f79884a899ac9e2bfda70a652",
       "version_major": 2,
       "version_minor": 0
      },
      "text/plain": [
       "Upserted vectors:   0%|          | 0/28 [00:00<?, ?it/s]"
      ]
     },
     "metadata": {},
     "output_type": "display_data"
    },
    {
     "name": "stdout",
     "output_type": "stream",
     "text": [
      "Summary 8:  Here is a summary of the key points from the passage:\n",
      "\n",
      "- The passage is from the book Ishmael by Daniel Quinn. It is from chapters 2 and 3. \n",
      "\n",
      "- Ishmael tells the narrator that every story has a premise. He gives the example of Romeo and Juliet, with the premise that two children from warring families fall in love. \n",
      "\n",
      "- Ishmael says the story being enacted in the world by the \"Takers\" also has a premise that the narrator should be able to figure out. \n",
      "\n",
      "- Ishmael hints that the premise is that the world was made for humans/man. The narrator agrees this is something everyone in his culture knows.\n",
      "\n",
      "- Ishmael explains some definitions: a story is a scenario interrelating man, the world, and the gods; to enact a story is to live to make it come true; a culture is a people enacting a story. \n",
      "\n",
      "- Ishmael says two different stories have been enacted on Earth - one by the \"Leavers\" beginning millions of years ago, and one by the \"Takers\" beginning thousands of years ago that may end in catastrophe.\n"
     ]
    },
    {
     "data": {
      "application/vnd.jupyter.widget-view+json": {
       "model_id": "352bc6616bfc46d7adeac746935db3ca",
       "version_major": 2,
       "version_minor": 0
      },
      "text/plain": [
       "Upserted vectors:   0%|          | 0/41 [00:00<?, ?it/s]"
      ]
     },
     "metadata": {},
     "output_type": "display_data"
    },
    {
     "name": "stdout",
     "output_type": "stream",
     "text": [
      "Summary 9:  Here is a summary of the key points from the passage:\n",
      "\n",
      "- The passage is from the book Ishmael by Daniel Quinn. It is from chapters 2 and 3. \n",
      "\n",
      "- Ishmael tells the narrator that every story has a premise. He gives the example of Romeo and Juliet, with the premise of two children from warring families falling in love. \n",
      "\n",
      "- Ishmael says the story being enacted by the \"Takers\" also has a premise that the narrator should be able to figure out. The narrator cannot guess it. \n",
      "\n",
      "- Ishmael reveals the premise - that the world was made for man. The narrator agrees this is something everyone in his culture knows.\n",
      "\n",
      "- Ishmael defines some key terms: \n",
      "\n",
      "- Story: a scenario interrelating man, the world, and the gods\n",
      "\n",
      "- To enact: to live so as to make the story a reality \n",
      "\n",
      "- Culture: a people enacting a story\n",
      "\n",
      "- Ishmael says there are two fundamentally different stories enacted on Earth - one by the \"Leavers\" and one by the \"Takers.\" \n",
      "\n",
      "- The Leavers' story began 2-3 million years ago and continues successfully. \n",
      "\n",
      "- The Takers' story began 10-12 thousand years ago and appears headed for catastrophe.\n"
     ]
    },
    {
     "data": {
      "application/vnd.jupyter.widget-view+json": {
       "model_id": "303c829ff74640afaa802aaff7c6215b",
       "version_major": 2,
       "version_minor": 0
      },
      "text/plain": [
       "Upserted vectors:   0%|          | 0/25 [00:00<?, ?it/s]"
      ]
     },
     "metadata": {},
     "output_type": "display_data"
    },
    {
     "name": "stdout",
     "output_type": "stream",
     "text": [
      "Summary 10:  Here is a summary of the key points in the passage:\n",
      "\n",
      "- The passage is from the book Ishmael by Daniel Quinn. It is from chapters 2 and 3. \n",
      "\n",
      "- Ishmael tells the narrator that every story has a premise. He gives the example of Romeo and Juliet, with the premise of two children from warring families falling in love. \n",
      "\n",
      "- Ishmael says the story being enacted in the world by the \"Takers\" also has a premise that the narrator should be able to figure out. \n",
      "\n",
      "- Ishmael hints that the premise is that the world was made for humans/man. The narrator agrees this is something everyone in his culture knows.\n",
      "\n",
      "- Ishmael explains some key definitions: \n",
      "\n",
      "- Story: A scenario interrelating man, the world, and the gods. \n",
      "\n",
      "- To enact: To live so as to make the story a reality.\n",
      "\n",
      "- Culture: A people enacting a story.\n",
      "\n",
      "- Ishmael says there are two fundamentally different stories enacted on Earth: \n",
      "\n",
      "- The Leavers' story began 2-3 million years ago and continues successfully. \n",
      "\n",
      "- The Takers' story began 10-12 thousand years ago and appears headed for catastrophe.\n"
     ]
    },
    {
     "data": {
      "application/vnd.jupyter.widget-view+json": {
       "model_id": "2519a1b571924aeb862a9ef8ebd2a6bf",
       "version_major": 2,
       "version_minor": 0
      },
      "text/plain": [
       "Upserted vectors:   0%|          | 0/22 [00:00<?, ?it/s]"
      ]
     },
     "metadata": {},
     "output_type": "display_data"
    },
    {
     "name": "stdout",
     "output_type": "stream",
     "text": [
      "Summary 11:  Here is a summary of the key points from the passage:\n",
      "\n",
      "- The passage is from the book Ishmael by Daniel Quinn. It is from chapters 2 and 3. \n",
      "\n",
      "- Ishmael tells the narrator that every story has a premise. He gives the example of Romeo and Juliet having the premise of two children from warring families falling in love. \n",
      "\n",
      "- Ishmael says the story being enacted in the world by the \"Takers\" also has a premise that the narrator should be able to figure out. \n",
      "\n",
      "- Ishmael hints that the premise is that the world was made for humans/man. The narrator agrees this is something everyone in his culture knows.\n",
      "\n",
      "- Ishmael explains some definitions: a story is a scenario interrelating man, the world, and the gods; to enact a story is to live to make it come true; a culture is a people enacting a story. \n",
      "\n",
      "- Ishmael says two fundamentally different stories have been enacted on Earth - one by the \"Leavers\" beginning 2-3 million years ago that continues today, and one by the \"Takers\" beginning 10-12 thousand years ago that appears headed for catastrophe.\n"
     ]
    },
    {
     "data": {
      "application/vnd.jupyter.widget-view+json": {
       "model_id": "854aced7c8974712b572191f26713d3b",
       "version_major": 2,
       "version_minor": 0
      },
      "text/plain": [
       "Upserted vectors:   0%|          | 0/27 [00:00<?, ?it/s]"
      ]
     },
     "metadata": {},
     "output_type": "display_data"
    },
    {
     "name": "stdout",
     "output_type": "stream",
     "text": [
      "Summary 12:  Here is a summary of the key points from the passage:\n",
      "\n",
      "- The passage is from the book Ishmael by Daniel Quinn. It is from chapters 2 and 3. \n",
      "\n",
      "- Ishmael tells the narrator that every story has a premise. He gives the example of Romeo and Juliet, with the premise that two children from warring families fall in love. \n",
      "\n",
      "- Ishmael says the story being enacted in the world by the \"Takers\" also has a premise that the narrator should be able to figure out. \n",
      "\n",
      "- Ishmael hints that the premise is that the world was made for humans/man. The narrator agrees this is something everyone in his culture knows.\n",
      "\n",
      "- Ishmael explains some definitions: a story is a scenario interrelating man, the world, and the gods; to enact a story is to live to make it come true; a culture is a people enacting a story. \n",
      "\n",
      "- Ishmael says two fundamentally different stories have been enacted on Earth - one by the \"Leavers\" beginning millions of years ago, and one by the \"Takers\" beginning thousands of years ago that may end in catastrophe.\n"
     ]
    },
    {
     "data": {
      "application/vnd.jupyter.widget-view+json": {
       "model_id": "6a1dbc0ad686499eb616acc96a08e9e7",
       "version_major": 2,
       "version_minor": 0
      },
      "text/plain": [
       "Upserted vectors:   0%|          | 0/7 [00:00<?, ?it/s]"
      ]
     },
     "metadata": {},
     "output_type": "display_data"
    },
    {
     "name": "stdout",
     "output_type": "stream",
     "text": [
      "Summary 13:  Here is a summary of the key points in the passage:\n",
      "\n",
      "- The passage is from the book Ishmael by Daniel Quinn. It is from chapters 2 and 3. \n",
      "\n",
      "- Ishmael tells the narrator that every story has a premise. He gives the example of Romeo and Juliet, with the premise that two children from warring families fall in love. \n",
      "\n",
      "- Ishmael says the story being enacted in the world by the \"Takers\" also has a premise. He asks the narrator to figure out what this premise is. \n",
      "\n",
      "- The narrator cannot figure it out. Ishmael reveals the premise - that the world was made for man. The narrator agrees this is a common belief even among atheists.\n",
      "\n",
      "- Ishmael explains key definitions: \n",
      "\n",
      "- Story: a scenario interrelating man, the world, and the gods\n",
      "- To enact: to live so as to make the story a reality \n",
      "- Culture: a people enacting a story\n",
      "\n",
      "- Ishmael states there are two fundamentally different stories enacted on earth: \n",
      "\n",
      "- The \"Leavers\" story began 2-3 million years ago and continues successfully. \n",
      "\n",
      "- The \"Takers\" story began 10-12 thousand years ago and appears headed for catastrophe.\n"
     ]
    },
    {
     "data": {
      "application/vnd.jupyter.widget-view+json": {
       "model_id": "0c55633be7f546b19bd7c99905ce364c",
       "version_major": 2,
       "version_minor": 0
      },
      "text/plain": [
       "Upserted vectors:   0%|          | 0/6 [00:00<?, ?it/s]"
      ]
     },
     "metadata": {},
     "output_type": "display_data"
    },
    {
     "name": "stdout",
     "output_type": "stream",
     "text": [
      "Summary 14:  Here is a summary of the key points from the passage:\n",
      "\n",
      "- The passage is from the book Ishmael by Daniel Quinn. It is from chapters 2 and 3.\n",
      "\n",
      "- Ishmael tells the narrator that every story has a premise. He gives the example of Romeo and Juliet having the premise of two children from warring families falling in love. \n",
      "\n",
      "- Ishmael says the story being enacted in the world by the \"Takers\" also has a premise that the narrator should be able to figure out. The narrator cannot guess what it is. \n",
      "\n",
      "- Ishmael reveals the premise - that the world was made for man. The narrator agrees this is something everyone in his culture knows.\n",
      "\n",
      "- Ishmael defines some key terms: \n",
      "\n",
      "- Story - a scenario interrelating man, the world, and the gods\n",
      "- To enact - to live so as to make the story a reality\n",
      "- Culture - a people enacting a story\n",
      "\n",
      "- Ishmael says there are two fundamentally different stories enacted on earth - one by the \"Leavers\" and one by the \"Takers.\" \n",
      "\n",
      "- The Leavers' story began 2-3 million years ago and continues successfully. \n",
      "\n",
      "- The Takers' story began 10-12 thousand years ago and appears headed for catastrophe.\n"
     ]
    },
    {
     "data": {
      "application/vnd.jupyter.widget-view+json": {
       "model_id": "5004f5b42e444e78ae33d3b41ad043dd",
       "version_major": 2,
       "version_minor": 0
      },
      "text/plain": [
       "Upserted vectors:   0%|          | 0/14 [00:00<?, ?it/s]"
      ]
     },
     "metadata": {},
     "output_type": "display_data"
    }
   ],
   "source": [
    "import traceback\n",
    "\n",
    "PDFReader = download_loader(\"PDFReader\")\n",
    "chapter_docs = []\n",
    "loader = PDFReader()\n",
    "\n",
    "#Let's index each chapter\n",
    "for pos in range(0, len(chapter_titles)):\n",
    "    documents = loader.load_data(file=Path(f\"{file_name}-{pos}.pdf\"))\n",
    "    chapter_title = chapter_titles[pos]['title']\n",
    "    for doc in documents:\n",
    "        doc.metadata['book_title'] = book_title\n",
    "        doc.metadata['chapter_number'] = pos\n",
    "        doc.metadata['chapter_title'] = chapter_title\n",
    "    chapter_docs.append(documents)\n",
    "\n",
    "#Let's generate chapter summaries\n",
    "response_synthesizer = get_response_synthesizer(\n",
    "    response_mode=\"tree_summarize\", \n",
    "    use_async=True, \n",
    "    service_context=service_context,\n",
    "    summary_template=summary_template,\n",
    ")\n",
    "summary_docs = []\n",
    "for chapter_pos in range(0, len(chapter_titles)):\n",
    "    try:\n",
    "        doc_index = VectorStoreIndex.from_documents(\n",
    "            chapter_docs[chapter_pos],\n",
    "            storage_context=storage_context,\n",
    "            service_context=service_context,\n",
    "        )\n",
    "    except Exception as e:\n",
    "        print(\"Error when indexing chapter \" + str(chapter_pos))\n",
    "        traceback.print_exc()\n",
    "        continue\n",
    "    \n",
    "    try:\n",
    "        if chapter_pos>0:\n",
    "            query_summary_engine = doc_index.as_query_engine(response_synthesizer=response_synthesizer,)\n",
    "            summary = query_summary_engine.query(\"Could you summarize the given context?\")\n",
    "            print(\"Summary \" + str(chapter_pos) + \": \" + summary.response)\n",
    "            chapter_title = chapter_titles[chapter_pos]['title']\n",
    "            summary_doc = Document(text=summary.response)\n",
    "            summary_doc.metadata['book_title'] = book_title\n",
    "            summary_doc.metadata['chapter_number'] = chapter_pos\n",
    "            summary_doc.metadata['chapter_title'] = chapter_title\n",
    "            summary_doc.metadata['is_summary'] = \"Y\"\n",
    "            summary_docs.append(summary_doc)\n",
    "    except Exception as e:\n",
    "        print(\"Error when generating chapter \" + str(chapter_pos) + \" summary\")\n",
    "        traceback.print_exc()\n",
    "        continue\n",
    "\n",
    "summary_index = VectorStoreIndex.from_documents(\n",
    "    summary_docs,\n",
    "    storage_context=storage_context,\n",
    "    service_context=service_context,\n",
    ")\n"
   ]
  },
  {
   "cell_type": "markdown",
   "id": "2d668d19",
   "metadata": {},
   "source": [
    "## Let's run a few tests\n",
    "### Simple query"
   ]
  },
  {
   "cell_type": "code",
   "execution_count": 33,
   "id": "61a06725",
   "metadata": {},
   "outputs": [
    {
     "data": {
      "text/markdown": [
       "**Prompt Key**: response_synthesizer:text_qa_template<br>**Text:** <br>"
      ],
      "text/plain": [
       "<IPython.core.display.Markdown object>"
      ]
     },
     "metadata": {},
     "output_type": "display_data"
    },
    {
     "name": "stdout",
     "output_type": "stream",
     "text": [
      "Human: The <passage></passage> xml tags below contain a passage of the book.\n",
      " <passage>{context_str}</passage>\n",
      "Using the provided passage answer the following question:\n",
      "{query_str}\n",
      "If the context isn't helpful, please reply that you don't know.\n",
      "\n",
      "Assistant:\n"
     ]
    },
    {
     "data": {
      "text/markdown": [
       "<br><br>"
      ],
      "text/plain": [
       "<IPython.core.display.Markdown object>"
      ]
     },
     "metadata": {},
     "output_type": "display_data"
    },
    {
     "data": {
      "text/markdown": [
       "**Prompt Key**: response_synthesizer:refine_template<br>**Text:** <br>"
      ],
      "text/plain": [
       "<IPython.core.display.Markdown object>"
      ]
     },
     "metadata": {},
     "output_type": "display_data"
    },
    {
     "name": "stdout",
     "output_type": "stream",
     "text": [
      "Human: The original question is within tghe <original_question></original_question> XML tags below.\n",
      "We have provided an existing answer within the <existing_answer>{context_str}</existing_answer> XML tags below. \n",
      "We have the opportunity to refine the existing answer (only if needed) with some more context available within the <passage></passage> XML tags below. <original_question>{query_str}</original_question>\n",
      " <existing_answer>{context_str}</existing_answer>\n",
      " <passage>{context_str}</passage>\n",
      "Rewrite a new answer. Use the existing answer and context as new context to expand the existing answer.\n",
      "\n",
      "Assistant:\n"
     ]
    },
    {
     "data": {
      "text/markdown": [
       "<br><br>"
      ],
      "text/plain": [
       "<IPython.core.display.Markdown object>"
      ]
     },
     "metadata": {},
     "output_type": "display_data"
    },
    {
     "name": "stdout",
     "output_type": "stream",
     "text": [
      " Based on the summary, the main characters of the book Ishmael seem to be:\n",
      "\n",
      "- Ishmael - a teacher figure who is a gorilla\n",
      "- The narrator - a human student of Ishmael\n",
      "\n",
      "The passage mentions Ishmael speaking to and teaching the narrator, so they appear to be the central characters having a dialogue in the book. No other character names are mentioned.\n",
      "> Source (Doc id: 21b0ad00-d029-406b-9134-69893917c9ec): Here is a summary of the key points in the passage:\n",
      "\n",
      "- The passage is from the book Ishmael by Da...\n",
      "\n",
      "> Source (Doc id: 6f1404c5-4388-449b-9cd6-c2c968ae3610): Here is a summary of the key points from the passage:\n",
      "\n",
      "- The passage is from the book Ishmael by ...\n",
      "\n",
      "> Source (Doc id: 1f8aa270-1228-4e5b-91a2-32e0d2a59411): Here is a summary of the key points from the passage:\n",
      "\n",
      "- The passage is from the book Ishmael by ...\n",
      "\n",
      "> Source (Doc id: f2432ed6-cb26-401a-b8e9-510571b57ba1): Here is a summary of the key points in the passage:\n",
      "\n",
      "- The passage is from the book Ishmael by Da...\n",
      "\n",
      "> Source (Doc id: 91a198d4-b75f-43c1-aeb5-809059b95e8b): Here is a summary of the key points from the passage:\n",
      "\n",
      "- The passage is from the book Ishmael by ...\n",
      "\n",
      "> Source (Doc id: 3bb0463a-eab1-4017-bc95-5fe701f5ba25): Here is a summary of the key points from the passage:\n",
      "\n",
      "- The passage is from the book Ishmael by ...\n",
      "\n",
      "> Source (Doc id: b6b98054-f8ed-4800-ac49-4a61fd96f6aa): Here is a summary of the key points from the passage:\n",
      "\n",
      "- The passage contains excerpts from chapt...\n",
      "\n",
      "> Source (Doc id: 9068e2c9-624a-470c-b210-4e2a0fda0640): Here is a summary of the key points from the passage:\n",
      "\n",
      "- The passage is from the book Ishmael by ...\n",
      "\n",
      "> Source (Doc id: 31f1b2e5-c776-419c-b0e2-89aaf4fbf7f9): Here is a summary of the key points from the passage:\n",
      "\n",
      "- The passage is from the book Ishmael by ...\n",
      "\n",
      "> Source (Doc id: 990fba97-aec6-4bca-a238-f52e01cf186b): Here is a summary of the key points in the passage:\n",
      "\n",
      "- The passage contains excerpts from chapter...\n"
     ]
    }
   ],
   "source": [
    "from llama_index.postprocessor.cohere_rerank import CohereRerank\n",
    "\n",
    "text_qa_template_str = (\n",
    "    \"Human: The <passage></passage> xml tags below contain a passage of the book.\\n\"\n",
    "    \" <passage>{context_str}</passage>\\n\"\n",
    "    \"Using the provided passage answer the following question:\\n\"\n",
    "    \"{query_str}\\nIf the context isn't helpful, please reply that you don't know.\\n\\n\"\n",
    "    \"Assistant:\"\n",
    ")\n",
    "text_qa_template = PromptTemplate(text_qa_template_str)\n",
    "\n",
    "refine_template_str = (\n",
    "    \"Human: The original question is within tghe <original_question></original_question> XML tags below.\\nWe have provided an\"\n",
    "    \" existing answer within the <existing_answer>{context_str}</existing_answer> XML tags below. \\nWe have the opportunity to refine\"\n",
    "    \" the existing answer (only if needed) with some more context available within the <passage></passage> XML tags below.\"\n",
    "    \" <original_question>{query_str}</original_question>\\n\"\n",
    "    \" <existing_answer>{context_str}</existing_answer>\\n\"\n",
    "    \" <passage>{context_str}</passage>\\n\"\n",
    "    \"Rewrite a new answer. Use the existing answer and context as new context to expand the existing answer.\\n\\n\"\n",
    "    \"Assistant:\"\n",
    ")\n",
    "refine_template = PromptTemplate(refine_template_str)\n",
    "\n",
    "api_key = os.environ[\"COHERE_API_KEY\"]\n",
    "cohere_rerank = CohereRerank(api_key=api_key, top_n=100)\n",
    "\n",
    "book_index = VectorStoreIndex.from_vector_store(vector_store=vector_store, service_context=service_context)\n",
    "query_engine = book_index.as_query_engine(\n",
    "    similarity_top_k=10,\n",
    "    text_qa_template=text_qa_template,\n",
    "    refine_template = refine_template,\n",
    "    node_postprocessors=[cohere_rerank],\n",
    "    )\n",
    "\n",
    "prompts_dict = query_engine.get_prompts()\n",
    "display_prompt_dict(prompts_dict)\n",
    "\n",
    "response = query_engine.query(\"Who are the main characters of the book?\")\n",
    "#response = query_engine.query(\"What does the book talk about?\") #may work better by putting entire book in context\n",
    "#response = query_engine.query(\"What is the significance of the jellyfish story?\")\n",
    "print(str(response))\n",
    "print(response.get_formatted_sources())"
   ]
  },
  {
   "cell_type": "markdown",
   "id": "d4d3cd8b-4134-4cfa-8002-e0a34694d2e1",
   "metadata": {
    "id": "d4d3cd8b-4134-4cfa-8002-e0a34694d2e1"
   },
   "source": [
    "### Using metadata to summarize/query a specific chapter"
   ]
  },
  {
   "cell_type": "code",
   "execution_count": null,
   "id": "615e083a",
   "metadata": {},
   "outputs": [],
   "source": [
    "import pinecone\n",
    "\n",
    "from llama_index.vector_stores.types import (\n",
    "    MetadataFilters,\n",
    "    ExactMatchFilter,\n",
    ")\n",
    "\n",
    "query_chapter_title = \"SIX\"\n",
    "query_book_title = book_title\n",
    "query_engine_six = book_index.as_query_engine(\n",
    "    similarity_top_k=20,\n",
    "    text_qa_template=text_qa_template,\n",
    "    refine_template = refine_template,\n",
    "    node_postprocessors=[cohere_rerank],\n",
    "    filters=MetadataFilters(\n",
    "        filters=[\n",
    "            ExactMatchFilter(key=\"chapter_title\", value=query_chapter_title),\n",
    "            ExactMatchFilter(key=\"book_title\", value=query_book_title),\n",
    "        ]\n",
    "    ),\n",
    ")\n",
    "response = query_engine_six.query(\"What does the passage talk about?\")\n",
    "print(\"Response = \"+ repr(response))"
   ]
  },
  {
   "cell_type": "markdown",
   "id": "cd050184",
   "metadata": {},
   "source": [
    "## Time to do some homework"
   ]
  },
  {
   "cell_type": "code",
   "execution_count": null,
   "id": "6d68750c-e5ae-481a-8b03-6173020c9bf3",
   "metadata": {
    "id": "6d68750c-e5ae-481a-8b03-6173020c9bf3"
   },
   "outputs": [],
   "source": [
    "import pandas as pd\n",
    "\n",
    "assignment = pd.read_csv('../data/assignment_questions.csv')\n",
    "\n",
    "role_prompt = \"You are a 12th grader doing an English assignment. Based on the provided context, please answer the following question.\\n QUESTION:\"\n",
    "\n",
    "def get_query_engine_by_chapter(book_index, query_book_title, query_chapter_title=\"ALL\"):\n",
    "    similarity_top_k_val=20\n",
    "    if query_chapter_title == \"ALL\":\n",
    "        chapter_filter = ExactMatchFilter(key=\"is_summary\", value=\"Y\")\n",
    "        similarity_top_k_val = 100\n",
    "    else:\n",
    "        chapter_filter = ExactMatchFilter(key=\"chapter_title\", value=query_chapter_title)\n",
    "        \n",
    "    query_engine = book_index.as_query_engine(\n",
    "        similarity_top_k=similarity_top_k_val,\n",
    "        text_qa_template=text_qa_template,\n",
    "        refine_template = refine_template,\n",
    "        node_postprocessors=[cohere_rerank],\n",
    "        filters=MetadataFilters(\n",
    "            filters=[\n",
    "                chapter_filter,\n",
    "                ExactMatchFilter(key=\"book_title\", value=query_book_title),\n",
    "            ]\n",
    "        ),\n",
    "    )\n",
    "    return query_engine\n",
    "\n",
    "book_index = VectorStoreIndex.from_vector_store(vector_store=vector_store, service_context=service_context)\n",
    "\n",
    "questions_one = assignment[assignment['chapter'] == \"ONE\"]\n",
    "query_engine_one = get_query_engine_by_chapter(book_index, book_title, \"ONE\")\n",
    "questions_one['answer'] = questions_one['question'].map(lambda q: query_engine_one.query(role_prompt + q).response, na_action='ignore')\n",
    "\n",
    "questions_two = assignment[assignment['chapter'] == \"TWO\"]\n",
    "query_engine_two = get_query_engine_by_chapter(book_index, book_title, \"TWO\")\n",
    "questions_two['answer'] = questions_two['question'].map(lambda q: query_engine_two.query(role_prompt + q).response, na_action='ignore')\n",
    "\n",
    "#General questions\n",
    "questions_all = assignment[assignment['chapter'] == \"ALL\"]\n",
    "query_engine_all = get_query_engine_by_chapter(book_index, book_title)\n",
    "questions_all['answer'] = questions_all['question'].map(lambda q: query_engine_all.query(role_prompt + q).response, na_action='ignore') #re-initialize query_engine if needed by running beginning of previous section\n",
    "\n",
    "questions = pd.concat([questions_one, questions_two, questions_all], sort=False)\n",
    "\n",
    "pd.options.display.max_colwidth = 1000\n",
    "questions.head(5)"
   ]
  },
  {
   "cell_type": "code",
   "execution_count": 36,
   "id": "babce835",
   "metadata": {},
   "outputs": [],
   "source": [
    "questions.to_csv('../data/assignment_answers.csv', index=False)"
   ]
  }
 ],
 "metadata": {
  "colab": {
   "provenance": [
    {
     "file_id": "https://github.com/jerryjliu/llama_index/blob/main/docs/examples/composable_indices/city_analysis/PineconeDemo-CityAnalysis.ipynb",
     "timestamp": 1702262242175
    }
   ]
  },
  "kernelspec": {
   "display_name": "Python 3 (ipykernel)",
   "language": "python",
   "name": "python3"
  },
  "language_info": {
   "codemirror_mode": {
    "name": "ipython",
    "version": 3
   },
   "file_extension": ".py",
   "mimetype": "text/x-python",
   "name": "python",
   "nbconvert_exporter": "python",
   "pygments_lexer": "ipython3",
   "version": "3.11.5"
  },
  "vscode": {
   "interpreter": {
    "hash": "87ec1eea00c24d6a3e8d99aeed087f5b444094e8604d83efa2f111696e36cf57"
   }
  }
 },
 "nbformat": 4,
 "nbformat_minor": 5
}
