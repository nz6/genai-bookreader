{
 "cells": [
  {
   "cell_type": "code",
   "execution_count": 1,
   "id": "af3aa168",
   "metadata": {},
   "outputs": [
    {
     "name": "stdout",
     "output_type": "stream",
     "text": [
      "Requirement already satisfied: pikepdf in /Users/nzzekpa/anaconda3/lib/python3.11/site-packages (8.9.0)\n",
      "Requirement already satisfied: Pillow>=10.0.1 in /Users/nzzekpa/anaconda3/lib/python3.11/site-packages (from pikepdf) (10.1.0)\n",
      "Requirement already satisfied: Deprecated in /Users/nzzekpa/anaconda3/lib/python3.11/site-packages (from pikepdf) (1.2.14)\n",
      "Requirement already satisfied: lxml>=4.8 in /Users/nzzekpa/anaconda3/lib/python3.11/site-packages (from pikepdf) (4.9.3)\n",
      "Requirement already satisfied: packaging in /Users/nzzekpa/anaconda3/lib/python3.11/site-packages (from pikepdf) (23.2)\n",
      "Requirement already satisfied: wrapt<2,>=1.10 in /Users/nzzekpa/anaconda3/lib/python3.11/site-packages (from Deprecated->pikepdf) (1.16.0)\n"
     ]
    }
   ],
   "source": [
    "!pip install pikepdf"
   ]
  },
  {
   "cell_type": "code",
   "execution_count": 7,
   "id": "21ef8b08",
   "metadata": {},
   "outputs": [],
   "source": [
    "import os\n",
    "from pikepdf import Pdf"
   ]
  },
  {
   "cell_type": "code",
   "execution_count": 8,
   "id": "2f78a7e5",
   "metadata": {},
   "outputs": [],
   "source": [
    "# a dictionary mapping PDF file to original PDF's page range\n",
    "book1_file2pages = {\n",
    "    0: [0, 16], # 1st splitted PDF file will contain the pages from 0 to 9 (9 is not included)\n",
    "    1: [16, 30], # 2nd splitted PDF file will contain the pages from 9 (9 is included) to 11\n",
    "    2: [30, 60], # 3rd splitted PDF file will contain the pages from 11 until the end or until the 100th page (if exists)\n",
    "    3: [60, 90],\n",
    "    4: [90, 122],\n",
    "    5: [122,158],\n",
    "    6: [158, 206],\n",
    "    7: [206, 253],\n",
    "    8: [253, 313],\n",
    "    9: [313, 343],\n",
    "    10: [343, 374],\n",
    "    11: [374, 414],\n",
    "    12: [414, 450],\n",
    "    13: [450, 510],\n",
    "    14: [510, 557],\n",
    "    15: [557, 589],\n",
    "    16: [589, 627],\n",
    "    17: [627, 651],\n",
    "    18: [651, 689],\n",
    "    19: [689, 729],\n",
    "    20: [729, 790],\n",
    "    21: [790, 822],\n",
    "    22: [822, 846],\n",
    "    23: [846, 847],\n",
    "    24: [847, 850],\n",
    "    25: [850, 854],\n",
    "    26: [854, 958]\n",
    "}\n",
    "\n",
    "# a dictionary mapping PDF file to original PDF's page range\n",
    "book1_file2titles = {\n",
    "    0: \"Contents\", # 1st splitted PDF file will contain the pages from 0 to 9 (9 is not included)\n",
    "    1: \"Introduction: Capital Markets, Consumption, and Investment\", # 2nd splitted PDF file will contain the pages from 9 (9 is included) to 11\n",
    "    2: \"Investment Decisions: The Certainty Case\", # 3rd splitted PDF file will contain the pages from 11 until the end or until the 100th page (if exists)\n",
    "    3: \"More Advanced Capital Budgeting Topics\",\n",
    "    4: \"The Theory of Choice: Utility Theory Given Uncertainty\",\n",
    "    5: \"State-Preference Theory\",\n",
    "    6: \"Objects of Choice: Mean-Variance Uncertainty\",\n",
    "    7: \"Market Equilibrium: CAPM and APT\",\n",
    "    8: \"Pricing Contingent Claims: Option Pricing Theory and Evidence\",\n",
    "    9: \"Futures Contracts and Markets\",\n",
    "    10: \"Efficient Capital Markets: Theory\",\n",
    "    11: \"Efficient Capital Markets: Evidence\",\n",
    "    12: \"Capital Budgeting under Uncertainty: The Multiperiod Case\",\n",
    "    13: \"Capital Structure and the Cost of Capital: Theory\",\n",
    "    14: \"Capital Structure: Empirical Evidence and Applications\",\n",
    "    15: \"Dividend Policy: Theory\",\n",
    "    16: \"Dividend Policy: Empirical Evidence and Applications\",\n",
    "    17: \"The Economics of Leasing\",\n",
    "    18: \"Applied Issues in Corporate Finance\",\n",
    "    19: \"Mergers, Restructuring, and Corporate Control: Theory\",\n",
    "    20: \"Mergers and Restructuring: Tests and Applications\",\n",
    "    21: \"Exchange Rate Systems and Parity Conditions\",\n",
    "    22: \"International Financial Management: Tests and Implications\",\n",
    "    23: \"Summary\",\n",
    "    24: \"Problem Set\",\n",
    "    25: \"References\",\n",
    "    26: \"Appendix\"    \n",
    "}\n",
    "\n",
    "file2pages = {\n",
    "    0: [3, 32],\n",
    "    1: [33, 51],\n",
    "    2: [50, 68],\n",
    "    3: [69, 80],\n",
    "    4: [81, 95],\n",
    "    5: [96, 113],\n",
    "    6: [114, 125],\n",
    "    7: [126, 153],\n",
    "    8: [154, 194],\n",
    "    9: [195, 219],\n",
    "    10: [220, 241],\n",
    "    11: [242, 268],\n",
    "    12: [269, 275],\n",
    "    13: [276,282]\n",
    "}\n",
    "\n",
    "file2titles = {\n",
    "    0: \"ONE\",\n",
    "    1: \"TWO\",\n",
    "    2: \"THREE\",\n",
    "    3: \"FOUR\",\n",
    "    4: \"FIVE\",\n",
    "    5: \"SIX\",\n",
    "    6: \"SEVEN\",\n",
    "    7: \"EIGHT\",\n",
    "    8: \"NINE\",\n",
    "    9: \"TEN\",\n",
    "    10: \"ELEVEN\",\n",
    "    11: \"TWELVE\",\n",
    "    12: \"THIRTEEN\",\n",
    "    13: \"END\"\n",
    "}\n",
    "\n",
    "# the target PDF document to split\n",
    "#filename = \"../data/2c8350a95ec3512f7d1c0676d3b75a63.pdf\"\n",
    "filename = \"../data/ishmael-a-novel-by-daniel-quinn-z-lib.org_.pdf\""
   ]
  },
  {
   "cell_type": "code",
   "execution_count": 6,
   "id": "d66d9aeb",
   "metadata": {},
   "outputs": [],
   "source": []
  },
  {
   "cell_type": "code",
   "execution_count": 23,
   "id": "d1ebb2e8",
   "metadata": {},
   "outputs": [
    {
     "name": "stdout",
     "output_type": "stream",
     "text": [
      "283\n"
     ]
    }
   ],
   "source": [
    "# load the PDF file\n",
    "pdf = Pdf.open(filename)\n",
    "enum_pages = enumerate(pdf.pages)\n",
    "print(len(list(enum_pages)))"
   ]
  },
  {
   "cell_type": "code",
   "execution_count": 10,
   "id": "d2ce70ad",
   "metadata": {},
   "outputs": [],
   "source": [
    "# make the new splitted PDF files\n",
    "new_pdf_files = [ Pdf.new() for i in file2pages ]\n",
    "# the current pdf file index\n",
    "new_pdf_index = 0"
   ]
  },
  {
   "cell_type": "code",
   "execution_count": 11,
   "id": "f8cf6a04",
   "metadata": {},
   "outputs": [
    {
     "name": "stdout",
     "output_type": "stream",
     "text": [
      "[+] File: ../data/ishmael-a-novel-by-daniel-quinn-z-lib.org_-0.pdf saved.\n",
      "[*] Assigning Page 0 to the file 1\n",
      "[+] File: ../data/ishmael-a-novel-by-daniel-quinn-z-lib.org_-1.pdf saved.\n",
      "[*] Assigning Page 1 to the file 2\n",
      "[+] File: ../data/ishmael-a-novel-by-daniel-quinn-z-lib.org_-2.pdf saved.\n",
      "[*] Assigning Page 2 to the file 3\n",
      "[+] File: ../data/ishmael-a-novel-by-daniel-quinn-z-lib.org_-3.pdf saved.\n",
      "[*] Assigning Page 3 to the file 4\n",
      "[+] File: ../data/ishmael-a-novel-by-daniel-quinn-z-lib.org_-4.pdf saved.\n",
      "[*] Assigning Page 4 to the file 5\n",
      "[+] File: ../data/ishmael-a-novel-by-daniel-quinn-z-lib.org_-5.pdf saved.\n",
      "[*] Assigning Page 5 to the file 6\n",
      "[+] File: ../data/ishmael-a-novel-by-daniel-quinn-z-lib.org_-6.pdf saved.\n",
      "[*] Assigning Page 6 to the file 7\n",
      "[+] File: ../data/ishmael-a-novel-by-daniel-quinn-z-lib.org_-7.pdf saved.\n",
      "[*] Assigning Page 7 to the file 8\n",
      "[+] File: ../data/ishmael-a-novel-by-daniel-quinn-z-lib.org_-8.pdf saved.\n",
      "[*] Assigning Page 8 to the file 9\n",
      "[+] File: ../data/ishmael-a-novel-by-daniel-quinn-z-lib.org_-9.pdf saved.\n",
      "[*] Assigning Page 9 to the file 10\n",
      "[+] File: ../data/ishmael-a-novel-by-daniel-quinn-z-lib.org_-10.pdf saved.\n",
      "[*] Assigning Page 10 to the file 11\n",
      "[+] File: ../data/ishmael-a-novel-by-daniel-quinn-z-lib.org_-11.pdf saved.\n",
      "[*] Assigning Page 11 to the file 12\n",
      "[+] File: ../data/ishmael-a-novel-by-daniel-quinn-z-lib.org_-12.pdf saved.\n",
      "[*] Assigning Page 12 to the file 13\n",
      "[+] File: ../data/ishmael-a-novel-by-daniel-quinn-z-lib.org_-13.pdf saved.\n"
     ]
    },
    {
     "ename": "IndexError",
     "evalue": "list index out of range",
     "output_type": "error",
     "traceback": [
      "\u001b[0;31m---------------------------------------------------------------------------\u001b[0m",
      "\u001b[0;31mIndexError\u001b[0m                                Traceback (most recent call last)",
      "\u001b[1;32m/Users/nzzekpa/Documents/dev/genai-bookreader-main/notebooks/BookSplitter.ipynb Cell 7\u001b[0m line \u001b[0;36m1\n\u001b[1;32m     <a href='vscode-notebook-cell:/Users/nzzekpa/Documents/dev/genai-bookreader-main/notebooks/BookSplitter.ipynb#W6sZmlsZQ%3D%3D?line=14'>15</a>\u001b[0m         new_pdf_index \u001b[39m+\u001b[39m\u001b[39m=\u001b[39m \u001b[39m1\u001b[39m\n\u001b[1;32m     <a href='vscode-notebook-cell:/Users/nzzekpa/Documents/dev/genai-bookreader-main/notebooks/BookSplitter.ipynb#W6sZmlsZQ%3D%3D?line=15'>16</a>\u001b[0m         \u001b[39m# add the `n` page to the `new_pdf_index` file\u001b[39;00m\n\u001b[0;32m---> <a href='vscode-notebook-cell:/Users/nzzekpa/Documents/dev/genai-bookreader-main/notebooks/BookSplitter.ipynb#W6sZmlsZQ%3D%3D?line=16'>17</a>\u001b[0m         new_pdf_files[new_pdf_index]\u001b[39m.\u001b[39mpages\u001b[39m.\u001b[39mappend(page)\n\u001b[1;32m     <a href='vscode-notebook-cell:/Users/nzzekpa/Documents/dev/genai-bookreader-main/notebooks/BookSplitter.ipynb#W6sZmlsZQ%3D%3D?line=17'>18</a>\u001b[0m         \u001b[39mprint\u001b[39m(\u001b[39mf\u001b[39m\u001b[39m\"\u001b[39m\u001b[39m[*] Assigning Page \u001b[39m\u001b[39m{\u001b[39;00mn\u001b[39m}\u001b[39;00m\u001b[39m to the file \u001b[39m\u001b[39m{\u001b[39;00mnew_pdf_index\u001b[39m}\u001b[39;00m\u001b[39m\"\u001b[39m)\n\u001b[1;32m     <a href='vscode-notebook-cell:/Users/nzzekpa/Documents/dev/genai-bookreader-main/notebooks/BookSplitter.ipynb#W6sZmlsZQ%3D%3D?line=19'>20</a>\u001b[0m \u001b[39m# save the last PDF file\u001b[39;00m\n",
      "\u001b[0;31mIndexError\u001b[0m: list index out of range"
     ]
    }
   ],
   "source": [
    "# iterate over all PDF pages\n",
    "for n, page in enumerate(pdf.pages):\n",
    "    if n in list(range(*file2pages[new_pdf_index])):\n",
    "        # add the `n` page to the `new_pdf_index` file\n",
    "        new_pdf_files[new_pdf_index].pages.append(page)\n",
    "        print(f\"[*] Assigning Page {n} to the file {new_pdf_index}\")\n",
    "    else:\n",
    "        # make a unique filename based on original file name plus the index\n",
    "        name, ext = os.path.splitext(filename)\n",
    "        output_filename = f\"{name}-{new_pdf_index}.pdf\"\n",
    "        # save the PDF file\n",
    "        new_pdf_files[new_pdf_index].save(output_filename)\n",
    "        print(f\"[+] File: {output_filename} saved.\")\n",
    "        # go to the next file\n",
    "        new_pdf_index += 1\n",
    "        # add the `n` page to the `new_pdf_index` file\n",
    "        new_pdf_files[new_pdf_index].pages.append(page)\n",
    "        print(f\"[*] Assigning Page {n} to the file {new_pdf_index}\")\n",
    "\n",
    "# save the last PDF file\n",
    "name, ext = os.path.splitext(filename)\n",
    "output_filename = f\"../data/{name}-{new_pdf_index}.pdf\"\n",
    "new_pdf_files[new_pdf_index].save(output_filename)\n",
    "print(f\"[+] File: {output_filename} saved.\")"
   ]
  },
  {
   "cell_type": "code",
   "execution_count": null,
   "id": "4f239ea8",
   "metadata": {},
   "outputs": [],
   "source": []
  }
 ],
 "metadata": {
  "kernelspec": {
   "display_name": "Python 3 (ipykernel)",
   "language": "python",
   "name": "python3"
  },
  "language_info": {
   "codemirror_mode": {
    "name": "ipython",
    "version": 3
   },
   "file_extension": ".py",
   "mimetype": "text/x-python",
   "name": "python",
   "nbconvert_exporter": "python",
   "pygments_lexer": "ipython3",
   "version": "3.11.5"
  }
 },
 "nbformat": 4,
 "nbformat_minor": 5
}
